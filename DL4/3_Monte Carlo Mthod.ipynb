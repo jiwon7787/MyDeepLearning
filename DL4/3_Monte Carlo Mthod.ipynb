{
 "cells": [
  {
   "cell_type": "markdown",
   "metadata": {},
   "source": [
    "5.1.1 サイコロの目の和（分布モデル: 確率分布を使って期待値を計算）"
   ]
  },
  {
   "cell_type": "code",
   "execution_count": 3,
   "metadata": {},
   "outputs": [
    {
     "name": "stdout",
     "output_type": "stream",
     "text": [
      "6.999999999999999\n"
     ]
    }
   ],
   "source": [
    "ps = {2: 1/36, 3: 2/36, 4: 3/36, 5: 4/36, 6: 5/36, 7: 6/36, 8: 5/36, 9: 4/36, 10: 3/36, 11: 2/36, 12: 1/36} # 確率分布\n",
    "\n",
    "V = 0\n",
    "for x, p in ps. items():\n",
    "    V += x*p\n",
    "print(V) # 期待値"
   ]
  },
  {
   "cell_type": "markdown",
   "metadata": {},
   "source": [
    "5.1.2-3 サンプルモデル: サンプルを使って期待値を計算"
   ]
  },
  {
   "cell_type": "code",
   "execution_count": 4,
   "metadata": {},
   "outputs": [
    {
     "name": "stdout",
     "output_type": "stream",
     "text": [
      "10\n",
      "11\n",
      "8\n"
     ]
    }
   ],
   "source": [
    "import numpy as np\n",
    "def sample(dices=2):\n",
    "    x = 0\n",
    "    for _ in range(dices):\n",
    "        x += np.random.choice([1, 2, 3, 4, 5, 6])\n",
    "    return x\n",
    "\n",
    "print(sample())\n",
    "print(sample())\n",
    "print(sample())"
   ]
  },
  {
   "cell_type": "code",
   "execution_count": 5,
   "metadata": {},
   "outputs": [
    {
     "name": "stdout",
     "output_type": "stream",
     "text": [
      "7.129\n"
     ]
    }
   ],
   "source": [
    "trial = 1000\n",
    "\n",
    "samples = []\n",
    "for _ in range(trial):\n",
    "    s = sample()\n",
    "    samples.append(s)\n",
    "\n",
    "V = sum(samples) / len(samples) # 通常の平均計算\n",
    "\n",
    "print(V)"
   ]
  },
  {
   "cell_type": "code",
   "execution_count": 6,
   "metadata": {},
   "outputs": [
    {
     "name": "stdout",
     "output_type": "stream",
     "text": [
      "6.991000000000003\n"
     ]
    }
   ],
   "source": [
    "trial = 1000\n",
    "V, n = 0, 0\n",
    "\n",
    "for _ in range(trial):\n",
    "    s = sample()\n",
    "    n += 1\n",
    "    V += (s - V) / n # インクリメンタルな平均計算\n",
    "\n",
    "print(V)"
   ]
  },
  {
   "cell_type": "markdown",
   "metadata": {},
   "source": [
    "5.3.1 stepメソッドの使い方"
   ]
  },
  {
   "cell_type": "code",
   "execution_count": 7,
   "metadata": {},
   "outputs": [
    {
     "name": "stdout",
     "output_type": "stream",
     "text": [
      "next_state:  (2, 0)\n",
      "reward:  0\n",
      "done:  False\n"
     ]
    }
   ],
   "source": [
    "from common.gridworld import GridWorld\n",
    "\n",
    "env = GridWorld()\n",
    "action = -3\n",
    "next_state, reward, done = env.step(action)\n",
    "\n",
    "print('next_state: ', next_state)\n",
    "print('reward: ', reward)\n",
    "print('done: ', done)"
   ]
  },
  {
   "cell_type": "markdown",
   "metadata": {},
   "source": [
    "エージェントクラスの実装"
   ]
  },
  {
   "cell_type": "code",
   "execution_count": 8,
   "metadata": {},
   "outputs": [],
   "source": [
    "from collections import defaultdict\n",
    "\n",
    "\n",
    "class RandomAgent:\n",
    "    def __init__(self):\n",
    "        self.gamma = 0.9\n",
    "        self.action_size = 4\n",
    "\n",
    "        random_actions = {0: 0.25, 1: 0.25, 2: 0.25, 3: 0.25}\n",
    "        self.pi = defaultdict(lambda: random_actions)\n",
    "        self.V = defaultdict(lambda: 0)\n",
    "        self.cnts = defaultdict(lambda: 0) # 収益の平均計算時に使う母数\n",
    "        self.memory = [] # (状態、行動、報酬)の保持\n",
    "\n",
    "    # 各状態における方策に基づいて行動を確率的に決定する\n",
    "    def get_action(self, state):\n",
    "        action_probs = self.pi[state]\n",
    "        actions = list(action_probs.keys())\n",
    "        probs = list(action_probs.values())\n",
    "        return np.random.choice(actions, p=probs)\n",
    "\n",
    "    def add(self, state, action, reward):\n",
    "        data = (state, action, reward)\n",
    "        self.memory.append(data)\n",
    "\n",
    "    def reset(self):\n",
    "        self.memory.clear()\n",
    "\n",
    "    # まず方策に基づき一定回数の試行（エピソード）を重ねた後に評価が行われる\n",
    "    def eval(self):\n",
    "        G = 0\n",
    "        for data in reversed(self.memory): # ゴール一歩手前から逆向きに経験をたどる（計算の効率化）\n",
    "            state, action, reward = data\n",
    "            G = self.gamma * G + reward # 割引率を適用した一個前の報酬と今回の報酬を合わせる\n",
    "            self.cnts[state] += 1 # その状態を訪れた回数を記録\n",
    "            self.V[state] += (G - self.V[state]) / self.cnts[state] # 価値観数（報酬の期待値）を更新"
   ]
  },
  {
   "cell_type": "code",
   "execution_count": 9,
   "metadata": {},
   "outputs": [
    {
     "data": {
      "image/png": "[encoded data removed]",
      "text/plain": [
       "<Figure size 640x480 with 1 Axes>"
      ]
     },
     "metadata": {},
     "output_type": "display_data"
    }
   ],
   "source": [
    "from common.gridworld import GridWorld\n",
    "\n",
    "env = GridWorld()\n",
    "agent = RandomAgent()\n",
    "\n",
    "episodes = 1000\n",
    "for episode in range(episodes):\n",
    "    state = env.reset()\n",
    "    agent.reset()\n",
    "\n",
    "    while True:\n",
    "        action = agent.get_action(state) # 方策に基づいて行動を選択\n",
    "        next_state, reward, done = env.step(action) # その行動から次の状態、報酬、ゴール確認を得る\n",
    "\n",
    "        agent.add(state, action, reward) # 状態、報酬、ゴール確認の記録\n",
    "        if done: # ゴールに着いたら\n",
    "            agent.eval() # 状態価値関数を更新\n",
    "            break\n",
    "\n",
    "        state = next_state\n",
    "\n",
    "env.render_v(agent.V)"
   ]
  },
  {
   "cell_type": "markdown",
   "metadata": {},
   "source": [
    "5.4.5 モンテカルロ法を使った方策反復法"
   ]
  },
  {
   "cell_type": "code",
   "execution_count": 10,
   "metadata": {},
   "outputs": [],
   "source": [
    "from collections import defaultdict\n",
    "import numpy as np\n",
    "\n",
    "class McAgent:\n",
    "    def __init__(self):\n",
    "        self.gamma = 0.9\n",
    "        self.epsilon = 0.1\n",
    "        self.alpha = 0.1\n",
    "        self.action_size = 4\n",
    "\n",
    "        random_actions = {0: 0.25, 1: 0.25, 2: 0.25, 3: 0.25}\n",
    "        self.pi = defaultdict(lambda: random_actions)\n",
    "        self.Q = defaultdict(lambda: 0)\n",
    "        self.memory = []\n",
    "\n",
    "    def get_action(self, state):\n",
    "        action_probs = self.pi[state]\n",
    "        actions = list(action_probs.keys())\n",
    "        probs = list(action_probs.values())\n",
    "        return np.random.choice(actions, p=probs) # 方策の確率に従って行動を一つ選択\n",
    "\n",
    "    def add(self, state, action, reward):\n",
    "        data = (state, action, reward)\n",
    "        self.memory.append(data)\n",
    "\n",
    "    def reset(self):\n",
    "        self.memory.clear()\n",
    "\n",
    "    def update(self):\n",
    "        G = 0\n",
    "        for data in reversed(self.memory): # ゴール側から参照\n",
    "            state, action, reward = data\n",
    "            G = self.gamma * G + reward # 現在を除くゴール側までの報酬に割引率を当てた上で、現在の報酬を加える\n",
    "            key = (state, action)\n",
    "            self.Q[key] += (G - self.Q[key]) * self.alpha # 行動価値関数をインクリメント式に更新（過去（スタート側）のデータほど指数的に重みが小さくなる）\n",
    "            self.pi[state] = greedy_probs(self.Q, state, self.epsilon) #\n",
    "\n",
    "def greedy_probs(Q, state, epsilon=0, action_size=4):\n",
    "    qs = [Q[(state, action)] for action in range(action_size)] # その状態における行動(0,1,2,3)の価値観数をリストに保持\n",
    "    max_action = np.argmax(qs) # 最も値が高い価値観数の行動\n",
    "\n",
    "    base_prob = epsilon / action_size # まず均等に探索確率を均等に割る(例えば0.1を４つの行動に均等分配してそれぞれ0.025)\n",
    "    action_probs = {action: base_prob for action in range(action_size)} # 均等に割った探索確率を４つ全てに割り当てる\n",
    "    action_probs[max_action] += (1 - epsilon) # その上に最も値が高い価値観数の行動には活用確率(0.9)も加える\n",
    "    return action_probs # e.g. {0: 0.025, 1: 0.925, 2: 0.025, 3: 0.025}"
   ]
  },
  {
   "cell_type": "code",
   "execution_count": 11,
   "metadata": {},
   "outputs": [
    {
     "data": {
      "image/png": "[encoded data removed]",
      "text/plain": [
       "<Figure size 640x480 with 1 Axes>"
      ]
     },
     "metadata": {},
     "output_type": "display_data"
    },
    {
     "data": {
      "image/png": "[encoded data removed]",
      "text/plain": [
       "<Figure size 640x480 with 1 Axes>"
      ]
     },
     "metadata": {},
     "output_type": "display_data"
    }
   ],
   "source": [
    "from common.gridworld import GridWorld\n",
    "\n",
    "env = GridWorld()\n",
    "agent = McAgent()\n",
    "episodes = 1000\n",
    "for episode in range(episodes):\n",
    "    state = env.reset()\n",
    "    agent.reset()\n",
    "\n",
    "    while True:\n",
    "        action = agent.get_action(state) # 方策に基づいて行動を選択\n",
    "        next_state, reward, done = env.step(action) # その行動によって得た状態、報酬、ゴール確認\n",
    "\n",
    "        agent.add(state, action, reward) # 状態、報酬、ゴール確認の記録\n",
    "        if done: # ゴールに着いたら\n",
    "            agent.update() # 最も高い行動価値関数を優先した方策に更新\n",
    "            break\n",
    "\n",
    "        state = next_state\n",
    "\n",
    "env.render_q(agent.Q)"
   ]
  },
  {
   "cell_type": "markdown",
   "metadata": {},
   "source": [
    "5.5.2 重点サンプリング"
   ]
  },
  {
   "cell_type": "code",
   "execution_count": 12,
   "metadata": {},
   "outputs": [
    {
     "name": "stdout",
     "output_type": "stream",
     "text": [
      "E_pi[x] 2.7\n",
      "MC:  2.74 (var: 0.35)\n"
     ]
    }
   ],
   "source": [
    "import numpy as np\n",
    "\n",
    "# 期待値\n",
    "x = np.array([1, 2, 3])\n",
    "pi = np.array([0.1, 0.1, 0.8])\n",
    "\n",
    "e = np.sum(x * pi) # 期待値の定義式\n",
    "print('E_pi[x]', e)\n",
    "\n",
    "# モンテカルロ法による期待値（たくさん試行してその平均値を求める）\n",
    "n = 100\n",
    "samples = []\n",
    "for _ in range(n):\n",
    "    s = np.random.choice(x, p=pi)\n",
    "    samples.append(s)\n",
    "\n",
    "mean = np.mean(samples)\n",
    "var = np.var(samples)\n",
    "print('MC: {: .2f} (var: {:.2f})'.format(mean, var))"
   ]
  },
  {
   "cell_type": "code",
   "execution_count": 13,
   "metadata": {},
   "outputs": [
    {
     "name": "stdout",
     "output_type": "stream",
     "text": [
      "IS: 3.15 (var: 10.95)\n"
     ]
    }
   ],
   "source": [
    "# 重点サンプリング\n",
    "x = np.array([1, 2, 3])\n",
    "pi = np.array([0.1, 0.1, 0.8]) # ターゲット方策（活用：評価と改善）\n",
    "\n",
    "b = np.array(([1/3, 1/3, 1/3])) # 挙動方策(探索：[状態、行動、報酬]をもたらすエージェントの行動選択)\n",
    "n = 100\n",
    "samples = []\n",
    "\n",
    "for _ in range(n):\n",
    "    idx = np.arange(len(b)) # [0, 1, 2]\n",
    "    i = np.random.choice(idx, p=b) # 確率分布に従ってインデックス0,1,2をランダム選択\n",
    "    s = x[i] # インデックスに対応した値(1,2,3)\n",
    "    rho = pi[i] / b[i] # ターゲット方策π（活用）/ 挙動方策b(探索)　= 重みp(πで確率変数の確率が高いほど大きな重みになる)\n",
    "    samples.append(s * rho) # 確率変数に重みpをかけて補正を掛ける（確率の高い変数ならその値が平均に与える影響度を大きくする）\n",
    "    # e.g. 確率分布πにおいて変数3は0.8の確率だから、確率分布b[1/3,1/3,1/3]で出した変数3に2.4(0.8/(1/3))倍の補正を掛ける\n",
    "\n",
    "mean = np.mean(samples)\n",
    "var = np.var(samples)\n",
    "print('IS: {:.2f} (var: {:.2f})'.format(mean, var))"
   ]
  },
  {
   "cell_type": "markdown",
   "metadata": {},
   "source": [
    "5.5.3 重点サンプリングにおける分散を小さくする方法"
   ]
  },
  {
   "cell_type": "code",
   "execution_count": 14,
   "metadata": {},
   "outputs": [
    {
     "name": "stdout",
     "output_type": "stream",
     "text": [
      "IS: 2.78 (var: 2.45)\n"
     ]
    },
    {
     "ename": "",
     "evalue": "",
     "output_type": "error",
     "traceback": [
      "\u001b[1;31mThe Kernel crashed while executing code in the current cell or a previous cell. \n",
      "\u001b[1;31mPlease review the code in the cell(s) to identify a possible cause of the failure. \n",
      "\u001b[1;31mClick <a href='https://aka.ms/vscodeJupyterKernelCrash'>here</a> for more info. \n",
      "\u001b[1;31mView Jupyter <a href='command:jupyter.viewOutput'>log</a> for further details."
     ]
    }
   ],
   "source": [
    "x = np.array([1, 2, 3])\n",
    "pi = np.array([0.1, 0.1, 0.8]) # ターゲット方策（活用：評価と改善）\n",
    "\n",
    "# ターゲット方策に分布を近づけると分散が小さくなる\n",
    "b = np.array(([0.2, 0.2, 0.6])) # 挙動方策(探索：[状態、行動、報酬]をもたらすエージェントの行動選択)\n",
    "n = 100\n",
    "samples = []\n",
    "\n",
    "for _ in range(n):\n",
    "    idx = np.arange(len(b)) # [0, 1, 2]\n",
    "    i = np.random.choice(idx, p=b) # 確率分布に従ってインデックス0,1,2をランダム選択\n",
    "    s = x[i] # インデックスに対応した値(1,2,3)\n",
    "    rho = pi[i] / b[i] # ターゲット方策π（活用）/ 挙動方策b(探索)　= 重みp(πで確率変数の確率が高いほど大きな重みになる)\n",
    "    samples.append(s * rho) # 確率変数に重みpをかけて補正を掛ける（確率の高い変数ならその値が平均に与える影響度を大きくする）\n",
    "    # e.g. 確率分布πにおいて変数3は0.8の確率だから、確率分布b[1/3,1/3,1/3]で出した変数3に2.4(0.8/(1/3))倍の補正を掛ける\n",
    "\n",
    "mean = np.mean(samples)\n",
    "var = np.var(samples)\n",
    "print('IS: {:.2f} (var: {:.2f})'.format(mean, var))"
   ]
  },
  {
   "cell_type": "markdown",
   "metadata": {},
   "source": [
    "A.2 方策オフ型のモンテカルロ法の実装"
   ]
  },
  {
   "cell_type": "code",
   "execution_count": null,
   "metadata": {},
   "outputs": [],
   "source": [
    "import numpy as np\n",
    "from common.gridworld import GridWorld\n",
    "from common.utils import greedy_probs\n",
    "\n",
    "class McOffPolucyAgent:\n",
    "    def __init__(self):\n",
    "        self.gamma = 0.9\n",
    "        self.epsilon = 0.1\n",
    "        self.alpha = 0.2\n",
    "        self.action_size = 4\n",
    "\n",
    "        random_actions = {0: 0.25, 1: 0.25, 2: 0.25, 3: 0.25}\n",
    "        self.pi = defaultdict(lambda: random_actions)\n",
    "        self.b = defaultdict(lambda: random_actions) # 挙動方策\n",
    "        self.Q = defaultdict(lambda: 0)\n",
    "        self.memory = []\n",
    "\n",
    "    def get_action(self, state):\n",
    "        action_probs = self.b[state] # その状態における挙動方策\n",
    "        actions = list(action_probs.keys())\n",
    "        probs = list(action_probs.values())\n",
    "        return np.random.choice(actions, p=probs)\n",
    "\n",
    "    def add(self, state, action, reward):\n",
    "        data = (state, action, reward)\n",
    "        self.memory.append(data)\n",
    "\n",
    "    def reset(self):\n",
    "        self.memory.clear()\n",
    "\n",
    "    def update(self):\n",
    "        G = 0\n",
    "        rho = 1\n",
    "\n",
    "        for data in reversed(self.memory):\n",
    "            state, action, reward = data\n",
    "            key = (state, action)\n",
    "\n",
    "            G = self.gamma * rho * G + reward\n",
    "            self.Q[key] += (G - self.Q[key]) * self.alpha\n",
    "            rho *= self.pi [state][action] / self.b[state][action]\n",
    "\n",
    "            self.pi[state] = greedy_probs(self.Q, state, epsilon=0)\n",
    "            self.b[state] = greedy_probs(self.Q, state, self.epsilon)\n"
   ]
  },
  {
   "cell_type": "markdown",
   "metadata": {},
   "source": []
  },
  {
   "cell_type": "markdown",
   "metadata": {},
   "source": []
  },
  {
   "cell_type": "markdown",
   "metadata": {},
   "source": []
  }
 ],
 "metadata": {
  "kernelspec": {
   "display_name": "Python 3",
   "language": "python",
   "name": "python3"
  },
  "language_info": {
   "codemirror_mode": {
    "name": "ipython",
    "version": 3
   },
   "file_extension": ".py",
   "mimetype": "text/x-python",
   "name": "python",
   "nbconvert_exporter": "python",
   "pygments_lexer": "ipython3",
   "version": "3.12.3"
  }
 },
 "nbformat": 4,
 "nbformat_minor": 2
}
