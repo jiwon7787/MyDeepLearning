{
 "cells": [
  {
   "cell_type": "markdown",
   "metadata": {},
   "source": [
    "1.3.2 平均値を求める実装（メモリが膨大）"
   ]
  },
  {
   "cell_type": "code",
   "execution_count": 3,
   "metadata": {},
   "outputs": [
    {
     "name": "stdout",
     "output_type": "stream",
     "text": [
      "0.5488135039273248\n",
      "0.6320014351498722\n",
      "0.6222554154571294\n",
      "0.6029123573420713\n",
      "0.567060845741438\n",
      "0.5801997236289743\n",
      "0.5598265075766483\n",
      "0.6013198192273272\n",
      "0.6415801460355164\n",
      "0.6157662833145425\n"
     ]
    }
   ],
   "source": [
    "import numpy as np\n",
    "\n",
    "np.random.seed(0)\n",
    "rewards = []\n",
    "\n",
    "for n in range(1,11):\n",
    "    reward = np.random.rand()\n",
    "    rewards.append(reward)\n",
    "    Q = sum(rewards) / n\n",
    "    print(Q)"
   ]
  },
  {
   "cell_type": "markdown",
   "metadata": {},
   "source": [
    "1.3.2 平均値を求める実装（改善版:一つ前の数値を参照して求める）"
   ]
  },
  {
   "cell_type": "code",
   "execution_count": 4,
   "metadata": {},
   "outputs": [
    {
     "name": "stdout",
     "output_type": "stream",
     "text": [
      "0.7917250380826646\n",
      "0.6603099789177845\n",
      "0.6295548396431672\n",
      "0.7035652893055406\n",
      "0.5770594430840099\n",
      "0.49540441918693173\n",
      "0.4275207017945595\n",
      "0.4781580947637318\n",
      "0.5114912787844116\n",
      "0.5473433657306523\n"
     ]
    }
   ],
   "source": [
    "Q = 0\n",
    "for n in range(1, 11):\n",
    "    reward = np.random.rand()\n",
    "    Q = Q + (reward - Q) / n\n",
    "    print(Q)"
   ]
  },
  {
   "cell_type": "markdown",
   "metadata": {},
   "source": [
    "1.4.1 スロットマシンの実装"
   ]
  },
  {
   "cell_type": "code",
   "execution_count": 5,
   "metadata": {},
   "outputs": [],
   "source": [
    "class Bandit:\n",
    "    def __init__(self, arms=10): # arms: スロットマシーンの数\n",
    "        self.rates = np.random.rand(arms) # それぞれに勝率をランダム設定(リスト)\n",
    "\n",
    "    def play(self, arm):\n",
    "        rate = self.rates[arm] # arm番目のスロットの勝率\n",
    "        if rate > np.random.rand(): # 勝率が乱数より大きければ\n",
    "            return 1\n",
    "        else:\n",
    "            return 0"
   ]
  },
  {
   "cell_type": "code",
   "execution_count": 6,
   "metadata": {},
   "outputs": [
    {
     "name": "stdout",
     "output_type": "stream",
     "text": [
      "1\n",
      "1\n",
      "1\n"
     ]
    }
   ],
   "source": [
    "bandit = Bandit()\n",
    "\n",
    "# 0番目のスロットを３回プレイ\n",
    "for i in range(3):\n",
    "    print(bandit.play(0))"
   ]
  },
  {
   "cell_type": "markdown",
   "metadata": {},
   "source": [
    "1.4.2 エージェントの実装"
   ]
  },
  {
   "cell_type": "markdown",
   "metadata": {},
   "source": [
    "スロットをプレイして平均値を更新"
   ]
  },
  {
   "cell_type": "code",
   "execution_count": 7,
   "metadata": {},
   "outputs": [
    {
     "name": "stdout",
     "output_type": "stream",
     "text": [
      "1.0\n",
      "0.5\n",
      "0.33333333333333337\n",
      "0.5\n",
      "0.6\n",
      "0.6666666666666666\n",
      "0.7142857142857143\n",
      "0.625\n",
      "0.6666666666666666\n",
      "0.6\n"
     ]
    }
   ],
   "source": [
    "bandit = Bandit()\n",
    "Q = 0\n",
    "\n",
    "for n in range(1, 11):\n",
    "    # reward = np.random.rand()\n",
    "    reward = bandit.play(0) # 0番目のスロットをプレイ\n",
    "    Q = Q + (reward - Q) / n # 平均値を更新\n",
    "    print(Q)"
   ]
  },
  {
   "cell_type": "markdown",
   "metadata": {},
   "source": [
    "１０個のスロットからランダム選択、それぞれの記録を保持"
   ]
  },
  {
   "cell_type": "code",
   "execution_count": 8,
   "metadata": {},
   "outputs": [
    {
     "name": "stdout",
     "output_type": "stream",
     "text": [
      "[0. 0. 0. 0. 0. 0. 0. 0. 0. 0.]\n",
      "[0. 0. 0. 1. 0. 0. 0. 0. 0. 0.]\n",
      "[0. 0. 0. 1. 0. 1. 0. 0. 0. 0.]\n",
      "[0. 0. 0. 1. 0. 1. 0. 0. 0. 0.]\n",
      "[0. 0. 0. 1. 0. 1. 0. 0. 0. 0.]\n",
      "[0. 0. 0. 1. 0. 1. 0. 0. 0. 0.]\n",
      "[0. 0. 0. 1. 0. 1. 0. 0. 0. 0.]\n",
      "[0. 0. 0. 1. 0. 1. 0. 0. 0. 1.]\n",
      "[0. 0. 0. 1. 0. 1. 0. 0. 0. 1.]\n",
      "[0. 0. 0. 1. 0. 1. 0. 0. 0. 1.]\n"
     ]
    }
   ],
   "source": [
    "bandit = Bandit()\n",
    "Qs = np.zeros(10) # 10個のスロットにおける平均値を格納するリスト\n",
    "ns = np.zeros(10) # 10個のスロットにおけるプレイした回数を格納するリスト\n",
    "\n",
    "for n in range(10):\n",
    "    action = np.random.randint(0, 10) # 10個のスロットからランダムに選ぶ\n",
    "    reward = bandit.play(action) # 選ばれたaction番目のスロットをプレイ\n",
    "\n",
    "    ns[action] += 1 # action番目のスロットにおけるプレイした回数更新\n",
    "    Qs[action] += (reward - Qs[action]) / ns[action] # action番目のスロットにおける平均値を更新\n",
    "    print(Qs)"
   ]
  },
  {
   "cell_type": "code",
   "execution_count": 9,
   "metadata": {},
   "outputs": [],
   "source": [
    "class Agent:\n",
    "    def __init__(self, epsilon, action_size=10):\n",
    "        self.epsilon = epsilon\n",
    "        self.Qs = np.zeros(action_size)\n",
    "        self.ns = np.zeros(action_size)\n",
    "\n",
    "    def update(self, action, reward):\n",
    "        self.ns[action] += 1\n",
    "        self.Qs[action] += (reward - self.Qs[action]) / self.ns[action]\n",
    "\n",
    "    def get_action(self):\n",
    "        if np.random.rand() < self.epsilon: # もし乱数がepsilonより低ければ、\n",
    "            return np.random.randint(0, len(self.Qs)) # 探索に出る（ランダムでスロットを選ぶ）\n",
    "        return np.argmax(self.Qs) # 基本的には一番成績の良いスロットを選ぶ"
   ]
  },
  {
   "cell_type": "code",
   "execution_count": 10,
   "metadata": {},
   "outputs": [
    {
     "name": "stdout",
     "output_type": "stream",
     "text": [
      "892\n"
     ]
    },
    {
     "data": {
      "image/png": "[encoded data removed]",
      "text/plain": [
       "<Figure size 640x480 with 1 Axes>"
      ]
     },
     "metadata": {},
     "output_type": "display_data"
    },
    {
     "data": {
      "image/png": "[encoded data removed]",
      "text/plain": [
       "<Figure size 640x480 with 1 Axes>"
      ]
     },
     "metadata": {},
     "output_type": "display_data"
    }
   ],
   "source": [
    "import matplotlib.pyplot as plt\n",
    "\n",
    "steps = 1000\n",
    "epsilon = 0.1\n",
    "\n",
    "bandit = Bandit()\n",
    "agent = Agent(epsilon)\n",
    "total_reward = 0\n",
    "total_rewards = [] # 図のプロットのため\n",
    "rates = []\n",
    "\n",
    "for step in range(steps):\n",
    "    action = agent.get_action() # 1. エージェントの行動（１番成績の良いスロット選択かランダム選択）\n",
    "    reward = bandit.play(action) # 2. 選んだスロットをプレイして報酬を得る\n",
    "    agent.update(action, reward) # 3. 報酬から選んだスロットの平均値を更新（=学習）する\n",
    "    total_reward += reward # 全スロットにおいて得た報酬合計\n",
    "\n",
    "    total_rewards.append(total_reward)\n",
    "    rates.append(total_reward / (step+1)) # 勝率\n",
    "\n",
    "print(total_reward)\n",
    "\n",
    "plt.ylabel('Total reward')\n",
    "plt.xlabel('Steps')\n",
    "plt.plot(total_rewards)\n",
    "plt.show()\n",
    "\n",
    "plt.ylabel('Rates')\n",
    "plt.xlabel('Steps')\n",
    "plt.plot(rates)\n",
    "plt.show()"
   ]
  },
  {
   "cell_type": "code",
   "execution_count": 16,
   "metadata": {},
   "outputs": [
    {
     "name": "stdout",
     "output_type": "stream",
     "text": [
      "[[0.         0.5        0.33333333 ... 0.85871743 0.85885886 0.859     ]\n",
      " [1.         1.         1.         ... 0.85170341 0.85185185 0.852     ]\n",
      " [0.         0.         0.         ... 0.70941884 0.70870871 0.709     ]\n",
      " ...\n",
      " [0.         0.5        0.66666667 ... 0.82164329 0.82182182 0.821     ]\n",
      " [0.         0.         0.33333333 ... 0.72745491 0.72772773 0.727     ]\n",
      " [0.         0.         0.         ... 0.75350701 0.75375375 0.754     ]]\n"
     ]
    },
    {
     "data": {
      "image/png": "[encoded data removed]",
      "text/plain": [
       "<Figure size 640x480 with 1 Axes>"
      ]
     },
     "metadata": {},
     "output_type": "display_data"
    }
   ],
   "source": [
    "import numpy as np\n",
    "import matplotlib.pyplot as plt\n",
    "runs = 200\n",
    "steps = 1000\n",
    "epsilon = 0.1\n",
    "all_rates = np.zeros((runs, steps)) # 200セット×1000試行\n",
    "\n",
    "for run in range(runs):\n",
    "    bandit = Bandit()\n",
    "    agent = Agent(epsilon)\n",
    "    total_reward = 0\n",
    "    rates = []\n",
    "\n",
    "    for step in range(steps):\n",
    "        action = agent.get_action() # 1. エージェントの行動（１番成績の良いスロット選択かランダム選択）\n",
    "        reward = bandit.play(action) # 2. 選んだスロットをプレイして報酬を得る\n",
    "        agent.update(action, reward) # 3. 報酬から選んだスロットの平均値を更新（=学習）する\n",
    "        total_reward += reward # 全スロットにおいて得た報酬合計\n",
    "\n",
    "        total_rewards.append(total_reward)\n",
    "        rates.append(total_reward / (step+1)) # 勝率\n",
    "\n",
    "    all_rates[run] = rates # セット毎の勝率を記録\n",
    "\n",
    "avg_rates = np.average(all_rates, axis=0) # 勝率の平均\n",
    "\n",
    "print(all_rates)\n",
    "\n",
    "plt.ylabel('Rates')\n",
    "plt.xlabel('Steps')\n",
    "plt.plot(avg_rates)\n",
    "plt.show()"
   ]
  },
  {
   "cell_type": "markdown",
   "metadata": {},
   "source": [
    "1.5 非定常問題（スロットの勝率設定が試行ごとに変化）"
   ]
  },
  {
   "cell_type": "code",
   "execution_count": 18,
   "metadata": {},
   "outputs": [],
   "source": [
    "class NotStatBandit:\n",
    "    def __init__(self, arms=10):\n",
    "        self.arms = arms\n",
    "        self.rates = np.random.rand(arms)\n",
    "\n",
    "    def play(self, arm):\n",
    "        rate = self.rates[arm]\n",
    "        self.rates += 0.1 * np.random.randn(self.arms) # ノイズを追加\n",
    "        if rate > np.random.rand():\n",
    "            return 1\n",
    "        else:\n",
    "            return 0"
   ]
  },
  {
   "cell_type": "code",
   "execution_count": 19,
   "metadata": {},
   "outputs": [],
   "source": [
    "class AlphaAgent:\n",
    "    def __init__(self, epsilon, alpha, actions=10):\n",
    "        self.epsilon = epsilon\n",
    "        self.Qs = np.zeros(actions)\n",
    "        self.alpha = alpha # 重み（過去のデータほど価値が低いようにする）\n",
    "\n",
    "    def update(self, action, reward):\n",
    "        self.Qs[action] += (reward - self.Qs[action]) * self.alpha # 重みを組み込んで平均値を更新\n",
    "\n",
    "    def get_action(self):\n",
    "        if np.random.rand() < self.epsilon:\n",
    "            return np.random.randint(0, len(self.Qs))\n",
    "        return np.argmax(self.Qs)"
   ]
  },
  {
   "cell_type": "markdown",
   "metadata": {},
   "source": [
    "4.1.2 反復方策評価"
   ]
  },
  {
   "cell_type": "code",
   "execution_count": null,
   "metadata": {},
   "outputs": [
    {
     "name": "stdout",
     "output_type": "stream",
     "text": [
      "{'L1': 0.0, 'L2': 0.5}\n",
      "{'L1': 0.22499999999999998, 'L2': 0.725}\n",
      "{'L1': 0.42749999999999994, 'L2': 0.9274999999999999}\n",
      "{'L1': 0.6097499999999999, 'L2': 1.10975}\n",
      "{'L1': 0.7737750000000001, 'L2': 1.273775}\n",
      "{'L1': 0.9213975000000001, 'L2': 1.4213975}\n",
      "{'L1': 1.05425775, 'L2': 1.55425775}\n",
      "{'L1': 1.1738319750000001, 'L2': 1.6738319750000001}\n",
      "{'L1': 1.2814487775, 'L2': 1.7814487775}\n",
      "{'L1': 1.3783038997500001, 'L2': 1.8783038997500001}\n",
      "{'L1': 1.465473509775, 'L2': 1.965473509775}\n",
      "{'L1': 1.5439261587975, 'L2': 2.0439261587975}\n",
      "{'L1': 1.61453354291775, 'L2': 2.11453354291775}\n",
      "{'L1': 1.6780801886259753, 'L2': 2.1780801886259753}\n",
      "{'L1': 1.7352721697633777, 'L2': 2.2352721697633777}\n",
      "{'L1': 1.78674495278704, 'L2': 2.28674495278704}\n",
      "{'L1': 1.8330704575083359, 'L2': 2.333070457508336}\n",
      "{'L1': 1.8747634117575023, 'L2': 2.3747634117575025}\n",
      "{'L1': 1.912287070581752, 'L2': 2.412287070581752}\n",
      "{'L1': 1.9460583635235769, 'L2': 2.446058363523577}\n",
      "{'L1': 1.9764525271712192, 'L2': 2.476452527171219}\n",
      "{'L1': 2.0038072744540973, 'L2': 2.5038072744540973}\n",
      "{'L1': 2.0284265470086877, 'L2': 2.5284265470086877}\n",
      "{'L1': 2.050583892307819, 'L2': 2.550583892307819}\n",
      "{'L1': 2.070525503077037, 'L2': 2.570525503077037}\n",
      "{'L1': 2.088472952769333, 'L2': 2.588472952769333}\n",
      "{'L1': 2.1046256574923996, 'L2': 2.6046256574923996}\n",
      "{'L1': 2.1191630917431596, 'L2': 2.6191630917431596}\n",
      "{'L1': 2.132246782568844, 'L2': 2.632246782568844}\n",
      "{'L1': 2.1440221043119596, 'L2': 2.6440221043119596}\n",
      "{'L1': 2.1546198938807635, 'L2': 2.6546198938807635}\n",
      "{'L1': 2.1641579044926873, 'L2': 2.6641579044926873}\n",
      "{'L1': 2.1727421140434187, 'L2': 2.6727421140434187}\n",
      "{'L1': 2.180467902639077, 'L2': 2.680467902639077}\n",
      "{'L1': 2.1874211123751692, 'L2': 2.6874211123751692}\n",
      "{'L1': 2.193679001137652, 'L2': 2.693679001137652}\n",
      "{'L1': 2.199311101023887, 'L2': 2.699311101023887}\n",
      "{'L1': 2.204379990921498, 'L2': 2.704379990921498}\n",
      "{'L1': 2.2089419918293483, 'L2': 2.7089419918293483}\n",
      "{'L1': 2.2130477926464134, 'L2': 2.7130477926464134}\n",
      "{'L1': 2.2167430133817723, 'L2': 2.7167430133817723}\n",
      "{'L1': 2.220068712043595, 'L2': 2.720068712043595}\n",
      "{'L1': 2.2230618408392355, 'L2': 2.7230618408392355}\n",
      "{'L1': 2.225755656755312, 'L2': 2.725755656755312}\n",
      "{'L1': 2.2281800910797807, 'L2': 2.7281800910797807}\n",
      "{'L1': 2.2303620819718026, 'L2': 2.7303620819718026}\n",
      "{'L1': 2.2323258737746223, 'L2': 2.7323258737746223}\n",
      "{'L1': 2.23409328639716, 'L2': 2.73409328639716}\n",
      "{'L1': 2.235683957757444, 'L2': 2.735683957757444}\n",
      "{'L1': 2.2371155619816996, 'L2': 2.7371155619816996}\n",
      "{'L1': 2.2384040057835297, 'L2': 2.7384040057835297}\n",
      "{'L1': 2.239563605205177, 'L2': 2.739563605205177}\n",
      "{'L1': 2.2406072446846594, 'L2': 2.7406072446846594}\n",
      "{'L1': 2.2415465202161933, 'L2': 2.7415465202161933}\n",
      "{'L1': 2.242391868194574, 'L2': 2.742391868194574}\n",
      "{'L1': 2.2431526813751166, 'L2': 2.7431526813751166}\n",
      "{'L1': 2.243837413237605, 'L2': 2.743837413237605}\n",
      "{'L1': 2.2444536719138446, 'L2': 2.7444536719138446}\n",
      "{'L1': 2.24500830472246, 'L2': 2.74500830472246}\n",
      "{'L1': 2.245507474250214, 'L2': 2.745507474250214}\n",
      "{'L1': 2.2459567268251925, 'L2': 2.7459567268251925}\n",
      "{'L1': 2.2463610541426733, 'L2': 2.7463610541426733}\n",
      "{'L1': 2.246724948728406, 'L2': 2.746724948728406}\n",
      "{'L1': 2.2470524538555656, 'L2': 2.7470524538555656}\n",
      "{'L1': 2.2473472084700092, 'L2': 2.7473472084700092}\n",
      "{'L1': 2.2476124876230084, 'L2': 2.7476124876230084}\n",
      "{'L1': 2.2478512388607075, 'L2': 2.7478512388607075}\n",
      "{'L1': 2.2480661149746366, 'L2': 2.7480661149746366}\n",
      "{'L1': 2.248259503477173, 'L2': 2.748259503477173}\n",
      "{'L1': 2.2484335531294555, 'L2': 2.7484335531294555}\n",
      "{'L1': 2.24859019781651, 'L2': 2.74859019781651}\n",
      "{'L1': 2.248731178034859, 'L2': 2.748731178034859}\n",
      "{'L1': 2.248858060231373, 'L2': 2.748858060231373}\n",
      "{'L1': 2.248972254208236, 'L2': 2.748972254208236}\n",
      "{'L1': 2.2490750287874124, 'L2': 2.7490750287874124}\n",
      "{'L1': 2.249167525908671, 'L2': 2.749167525908671}\n",
      "{'L1': 2.2492507733178044, 'L2': 2.7492507733178044}\n",
      "{'L1': 2.249325695986024, 'L2': 2.749325695986024}\n",
      "{'L1': 2.249393126387422, 'L2': 2.749393126387422}\n",
      "{'L1': 2.24945381374868, 'L2': 2.74945381374868}\n",
      "{'L1': 2.249508432373812, 'L2': 2.749508432373812}\n",
      "{'L1': 2.2495575891364306, 'L2': 2.7495575891364306}\n",
      "{'L1': 2.2496018302227876, 'L2': 2.7496018302227876}\n",
      "{'L1': 2.2496416472005087, 'L2': 2.7496416472005087}\n",
      "{'L1': 2.249677482480458, 'L2': 2.749677482480458}\n",
      "{'L1': 2.249709734232412, 'L2': 2.749709734232412}\n",
      "{'L1': 2.249738760809171, 'L2': 2.749738760809171}\n",
      "{'L1': 2.249764884728254, 'L2': 2.749764884728254}\n",
      "{'L1': 2.249788396255429, 'L2': 2.749788396255429}\n",
      "{'L1': 2.249809556629886, 'L2': 2.749809556629886}\n",
      "{'L1': 2.2498286009668975, 'L2': 2.7498286009668975}\n",
      "{'L1': 2.249845740870208, 'L2': 2.749845740870208}\n",
      "{'L1': 2.2498611667831874, 'L2': 2.7498611667831874}\n",
      "{'L1': 2.249875050104869, 'L2': 2.749875050104869}\n",
      "{'L1': 2.2498875450943823, 'L2': 2.7498875450943823}\n",
      "{'L1': 2.249898790584944, 'L2': 2.749898790584944}\n",
      "{'L1': 2.24990891152645, 'L2': 2.74990891152645}\n",
      "{'L1': 2.249918020373805, 'L2': 2.749918020373805}\n",
      "{'L1': 2.249926218336425, 'L2': 2.749926218336425}\n",
      "{'L1': 2.2499335965027827, 'L2': 2.7499335965027827}\n"
     ]
    }
   ],
   "source": [
    "V = {'L1': 0.0, 'L2': 0.0}\n",
    "new_V = V.copy()\n",
    "\n",
    "# ベルマン方程式で一発でで真の価値関数（収益の期待値）を求めるのではなく、\n",
    "# 試行を繰り返して価値関数を更新することで真の価値関数に近い数値を出す\n",
    "for _ in range(100):\n",
    "    new_V['L1'] = 0.5 * (-1 + 0.9 * V['L1']) + 0.5 * (1 + 0.9 * V['L2']) # L1を始点にした収益の期待値を更新\n",
    "    new_V['L2'] = 0.5 * (0 + 0.9 * V['L1']) + 0.5 * (1 + 0.9 * V['L2']) # L2を始点にした収益の期待値を更新\n",
    "    V = new_V.copy() # 次更新する際における一つ前の期待値として保持\n",
    "    print(V)\n"
   ]
  },
  {
   "cell_type": "code",
   "execution_count": null,
   "metadata": {},
   "outputs": [
    {
     "name": "stdout",
     "output_type": "stream",
     "text": [
      "{'L1': -2.249167525908671, 'L2': -2.749167525908671}\n",
      "76\n"
     ]
    }
   ],
   "source": [
    "V = {'L1': 0.0, 'L2': 0.0}\n",
    "new_V = V.copy()\n",
    "\n",
    "cnt = 0\n",
    "while True:\n",
    "    new_V['L1'] = 0.5 * (-1 + 0.9 * V['L1']) + 0.5 * (1 + 0.9 * V['L2'])\n",
    "    new_V['L2'] = 0.5 * (0 + 0.9 * V['L1']) + 0.5 * (-1 + 0.9 * V['L2'])\n",
    "\n",
    "    delta = abs(new_V['L1'] - V['L1']) # 更新差の絶対値\n",
    "    delta = max(delta, abs(new_V['L2'] - V['L2'])) # 更新差の最大値\n",
    "\n",
    "    V = new_V.copy() # 次更新する際における一つ前の期待値として保持\n",
    "\n",
    "    cnt += 1\n",
    "    # もし閾値より更新量が小さければそこで更新終了\n",
    "    if delta < 0.0001:\n",
    "        print(V)\n",
    "        print(cnt)\n",
    "        break"
   ]
  },
  {
   "cell_type": "code",
   "execution_count": 10,
   "metadata": {},
   "outputs": [
    {
     "name": "stdout",
     "output_type": "stream",
     "text": [
      "{'L1': -2.2493782177156936, 'L2': -2.7494201578106514}\n",
      "60\n"
     ]
    }
   ],
   "source": [
    "V = {'L1': 0.0, 'L2': 0.0}\n",
    "\n",
    "cnt = 0\n",
    "while True:\n",
    "    t = 0.5 * (-1 + 0.9 * V['L1']) + 0.5 * (1 + 0.9 * V['L2'])\n",
    "    delta = abs(t - V['L1'])\n",
    "    V['L1'] = t\n",
    "\n",
    "    t = 0.5 * (0 + 0.9 * V['L1']) + 0.5 * (-1 + 0.9 * V['L2'])\n",
    "    delta = max(delta, abs(t - V['L2']))\n",
    "    V['L2'] = t\n",
    "\n",
    "    cnt += 1\n",
    "    if delta < 0.0001:\n",
    "        print(V)\n",
    "        print(cnt)\n",
    "        break\n"
   ]
  },
  {
   "cell_type": "code",
   "execution_count": null,
   "metadata": {},
   "outputs": [],
   "source": [
    "import numpy as np\n",
    "\n",
    "class GridWorld:\n",
    "    def __init__(self):\n",
    "        self.action_space = [0, 1, 2, 3]\n",
    "        self.action_meaning = {\n",
    "            0: \"UP\",\n",
    "            1: \"DOWN\",\n",
    "            2: \"LEFT\",\n",
    "            3: \"RIGHT\",\n",
    "        }\n",
    "\n",
    "        self.reward_map = np.array(\n",
    "            [[0, 0, 0, 1.0],\n",
    "             [0, None, 0, -1.0],\n",
    "             [0, 0, 0, 0]]\n",
    "        )\n",
    "        self.goal_state = (0, 3)\n",
    "        self.wall_state = (1, 1)\n",
    "        self.start_state = (2, 0)\n",
    "        self.agent_state = self.start_state\n",
    "\n",
    "    @property # env.height()ではなくenv.heightで呼べる（インスタンスとして）\n",
    "    def height(self):\n",
    "        return len(self.reward_map)\n",
    "\n",
    "    @property\n",
    "    def width(self):\n",
    "        return len(self.reward_map[0])\n",
    "\n",
    "    @property\n",
    "    def shape(self):\n",
    "        return self.reward_map.shape\n",
    "\n",
    "    def actions(self):\n",
    "        return self.action_space\n",
    "\n",
    "    def states(self):\n",
    "        for h in range(self.height):\n",
    "            for w in range(self.width):\n",
    "                yield (h, w)\n",
    "\n",
    "    def next_state(self, state, action):\n",
    "        # 移動先の計算（壁や枠を無視）\n",
    "        action_move_map = [(-1, 0), (1, 0), (0, -1), (0,1)] # どうmoveするかのコマンドリスト\n",
    "        move = action_move_map[action] # action(0-3)でコマンドリストから一つmoveを選択\n",
    "        next_state = (state[0] + move[0], state[1] + move[1]) # 現在座標からmove\n",
    "        ny, nx = next_state # 現在座標を更新\n",
    "\n",
    "        # 移動先が枠外か確認\n",
    "        if nx < 0 or nx >= self.width or ny < 0 or ny >= self.height:\n",
    "            next_state = state # 現在位置のまま\n",
    "        # 移動先が壁なのかを確認\n",
    "        elif next_state == self.wall_state:\n",
    "            next_state =state # 現在位置のまま\n",
    "\n",
    "        return next_state\n",
    "\n",
    "    def reward(self, state, action, next_state):\n",
    "        return self.reward_map[next_state]"
   ]
  },
  {
   "cell_type": "code",
   "execution_count": 12,
   "metadata": {},
   "outputs": [
    {
     "name": "stdout",
     "output_type": "stream",
     "text": [
      "3\n",
      "4\n",
      "(3, 4)\n"
     ]
    }
   ],
   "source": [
    "env = GridWorld()\n",
    "\n",
    "print(env.height)\n",
    "print(env.width)\n",
    "print(env.shape)"
   ]
  },
  {
   "cell_type": "code",
   "execution_count": 15,
   "metadata": {},
   "outputs": [
    {
     "name": "stdout",
     "output_type": "stream",
     "text": [
      "0\n",
      "1\n",
      "2\n",
      "3\n",
      "===\n",
      "(0, 0)\n",
      "(0, 1)\n",
      "(0, 2)\n",
      "(0, 3)\n",
      "(1, 0)\n",
      "(1, 1)\n",
      "(1, 2)\n",
      "(1, 3)\n",
      "(2, 0)\n",
      "(2, 1)\n",
      "(2, 2)\n",
      "(2, 3)\n"
     ]
    }
   ],
   "source": [
    "for action in env.actions():\n",
    "    print(action)\n",
    "\n",
    "print('===')\n",
    "\n",
    "for state in env.states():\n",
    "    print(state)"
   ]
  },
  {
   "cell_type": "code",
   "execution_count": null,
   "metadata": {},
   "outputs": [],
   "source": []
  }
 ],
 "metadata": {
  "kernelspec": {
   "display_name": "Python 3",
   "language": "python",
   "name": "python3"
  },
  "language_info": {
   "codemirror_mode": {
    "name": "ipython",
    "version": 3
   },
   "file_extension": ".py",
   "mimetype": "text/x-python",
   "name": "python",
   "nbconvert_exporter": "python",
   "pygments_lexer": "ipython3",
   "version": "3.12.3"
  }
 },
 "nbformat": 4,
 "nbformat_minor": 2
}
