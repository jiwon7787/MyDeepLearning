{
 "cells": [
  {
   "cell_type": "code",
   "execution_count": 1,
   "metadata": {},
   "outputs": [
    {
     "name": "stdout",
     "output_type": "stream",
     "text": [
      "0\n",
      "0\n",
      "0\n",
      "1\n"
     ]
    }
   ],
   "source": [
    "def AND(x1,x2):\n",
    "    w1, w2, theta = 0.5, 0.5, 0.7\n",
    "    tmp = x1*w1 + x2*w2\n",
    "    if tmp <= theta:\n",
    "        return 0\n",
    "    elif tmp > theta:\n",
    "        return 1\n",
    "\n",
    "print(AND(0,0))\n",
    "print(AND(1,0))\n",
    "print(AND(0,1))\n",
    "print(AND(1,1))"
   ]
  },
  {
   "cell_type": "code",
   "execution_count": 2,
   "metadata": {},
   "outputs": [
    {
     "name": "stdout",
     "output_type": "stream",
     "text": [
      "[0.  0.5]\n",
      "0.5\n",
      "-0.19999999999999996\n"
     ]
    }
   ],
   "source": [
    "import numpy as np\n",
    "\n",
    "x = np.array([0,1])\n",
    "w = np.array([0.5, 0.5])\n",
    "b = -0.7\n",
    "\n",
    "print(w*x)\n",
    "print(np.sum(w*x))\n",
    "print(np.sum(w*x) + b)"
   ]
  },
  {
   "cell_type": "code",
   "execution_count": 3,
   "metadata": {},
   "outputs": [
    {
     "name": "stdout",
     "output_type": "stream",
     "text": [
      "0\n",
      "1\n",
      "1\n",
      "0\n"
     ]
    }
   ],
   "source": [
    "# x should be  1 or 0\n",
    "def AND(x1,x2):\n",
    "    x = np.array([x1,x2])\n",
    "    w = np.array([0.5,0.5])\n",
    "    b = -0.7\n",
    "    tmp = np.sum(w*x) + b\n",
    "    if tmp <= 0:\n",
    "        return 0\n",
    "    else:\n",
    "        return 1\n",
    "\n",
    "def NAND(x1,x2):\n",
    "    x = np.array([x1,x2])\n",
    "    w = np.array([-0.5,-0.5])\n",
    "    b = 0.7\n",
    "    tmp = np.sum(w*x) + b\n",
    "    if tmp <= 0:\n",
    "        return 0\n",
    "    else:\n",
    "        return 1\n",
    "\n",
    "def OR(x1,x2):\n",
    "    x = np.array([x1,x2])\n",
    "    w = np.array([0.5,0.5])\n",
    "    b = -0.2\n",
    "    tmp = np.sum(w*x) + b\n",
    "    if tmp <= 0:\n",
    "        return 0\n",
    "    else:\n",
    "        return 1\n",
    "\n",
    "def XOR(x1,x2):\n",
    "    s1 = NAND(x1,x2)\n",
    "    s2 = OR(x1,x2)\n",
    "    y = AND(s1,s2)\n",
    "    return y\n",
    "\n",
    "print(XOR(0,0))\n",
    "print(XOR(1,0))\n",
    "print(XOR(0,1))\n",
    "print(XOR(1,1))"
   ]
  },
  {
   "cell_type": "code",
   "execution_count": 4,
   "metadata": {},
   "outputs": [
    {
     "name": "stdout",
     "output_type": "stream",
     "text": [
      "[[[102 179]\n",
      "  [ 92  14]\n",
      "  [106  71]\n",
      "  [188  20]]\n",
      "\n",
      " [[102 121]\n",
      "  [210 214]\n",
      "  [ 74 202]\n",
      "  [ 87 116]]]\n"
     ]
    }
   ],
   "source": [
    "import numpy as np\n",
    "\n",
    "# シードを設定\n",
    "np.random.seed(42)\n",
    "\n",
    "# 5個の4x2pxのランダムな画像データを生成\n",
    "# 範囲は0から255までの整数\n",
    "x = np.random.randint(0, 256, size=(5, 4, 2))\n",
    "\n",
    "# xの内容の具体例（最初の２つの画像を表示）\n",
    "print(x[:2])\n"
   ]
  },
  {
   "cell_type": "code",
   "execution_count": 5,
   "metadata": {},
   "outputs": [
    {
     "name": "stdout",
     "output_type": "stream",
     "text": [
      "[[102 179  92  14 106  71 188  20]\n",
      " [102 121 210 214  74 202  87 116]]\n"
     ]
    }
   ],
   "source": [
    "import numpy as np\n",
    "\n",
    "# シードを設定\n",
    "np.random.seed(42)\n",
    "\n",
    "# 上記の5個の4x2pxの画像が平坦化されたデータ\n",
    "# 範囲は0から255までの整数\n",
    "x = np.random.randint(0, 256, size=(5, 8))\n",
    "\n",
    "# xの内容の具体例（最初の2つの画像データを表示）\n",
    "print(x[:2])\n"
   ]
  },
  {
   "cell_type": "code",
   "execution_count": 6,
   "metadata": {},
   "outputs": [
    {
     "name": "stdout",
     "output_type": "stream",
     "text": [
      "[[[[102 179]\n",
      "   [ 92  14]\n",
      "   [106  71]\n",
      "   [188  20]]]\n",
      "\n",
      "\n",
      " [[[102 121]\n",
      "   [210 214]\n",
      "   [ 74 202]\n",
      "   [ 87 116]]]]\n"
     ]
    }
   ],
   "source": [
    "import numpy as np\n",
    "\n",
    "# シードを設定\n",
    "np.random.seed(42)\n",
    "\n",
    "# 5個の1チャンネル(Grey)をもった4x2pxのランダムな画像データを生成([]が増えただけで内容は１番目と上記と変わらない)\n",
    "# 範囲は0から255までの整数\n",
    "x = np.random.randint(0, 256, size=(5, 1, 4, 2))\n",
    "\n",
    "# xの内容の具体例（最初の２つの画像データを表示）\n",
    "print(x[:2])\n"
   ]
  },
  {
   "cell_type": "code",
   "execution_count": 7,
   "metadata": {},
   "outputs": [
    {
     "name": "stdout",
     "output_type": "stream",
     "text": [
      "[[[[102 179]\n",
      "   [ 92  14]\n",
      "   [106  71]\n",
      "   [188  20]]\n",
      "\n",
      "  [[102 121]\n",
      "   [210 214]\n",
      "   [ 74 202]\n",
      "   [ 87 116]]\n",
      "\n",
      "  [[ 99 103]\n",
      "   [151 130]\n",
      "   [149  52]\n",
      "   [  1  87]]]\n",
      "\n",
      "\n",
      " [[[235 157]\n",
      "   [ 37 129]\n",
      "   [191 187]\n",
      "   [ 20 160]]\n",
      "\n",
      "  [[203  57]\n",
      "   [ 21 252]\n",
      "   [235  88]\n",
      "   [ 48 218]]\n",
      "\n",
      "  [[ 58 254]\n",
      "   [169 255]\n",
      "   [219 187]\n",
      "   [207  14]]]]\n"
     ]
    }
   ],
   "source": [
    "import numpy as np\n",
    "\n",
    "# シードを設定\n",
    "np.random.seed(42)\n",
    "\n",
    "# 5個の3チャンネル(RGB)をもった4x2pxのランダムな画像データを生成\n",
    "# 範囲は0から255までの整数\n",
    "x = np.random.randint(0, 256, size=(5, 3, 4, 2))\n",
    "\n",
    "# xの内容の具体例（最初の２つの画像データを表示）\n",
    "print(x[:2])"
   ]
  }
 ],
 "metadata": {
  "kernelspec": {
   "display_name": "base",
   "language": "python",
   "name": "python3"
  },
  "language_info": {
   "codemirror_mode": {
    "name": "ipython",
    "version": 3
   },
   "file_extension": ".py",
   "mimetype": "text/x-python",
   "name": "python",
   "nbconvert_exporter": "python",
   "pygments_lexer": "ipython3",
   "version": "3.12.3"
  }
 },
 "nbformat": 4,
 "nbformat_minor": 2
}
