{
 "cells": [
  {
   "cell_type": "markdown",
   "metadata": {},
   "source": [
    "step52: GPU対応"
   ]
  },
  {
   "cell_type": "markdown",
   "metadata": {},
   "source": [
    "52.1 Cupyのインストールと使用法"
   ]
  },
  {
   "cell_type": "code",
   "execution_count": 1,
   "metadata": {},
   "outputs": [
    {
     "name": "stdout",
     "output_type": "stream",
     "text": [
      "[[0 1 2]\n",
      " [3 4 5]]\n",
      "[ 3 12]\n"
     ]
    }
   ],
   "source": [
    "import cupy as cp\n",
    "\n",
    "x = cp.arange(6).reshape(2, 3)\n",
    "print(x)\n",
    "\n",
    "y = x.sum(axis=1)\n",
    "print(y)"
   ]
  },
  {
   "cell_type": "code",
   "execution_count": 2,
   "metadata": {},
   "outputs": [],
   "source": [
    "import numpy as np\n",
    "\n",
    "# numpy -> cupy\n",
    "n = np.array([1, 2, 3])\n",
    "c = cp.asarray(n)\n",
    "assert type(c) == cp.ndarray\n",
    "\n",
    "# cupy -> numpy\n",
    "c = cp.array([1, 2, 3])\n",
    "n = cp.asnumpy(c)\n",
    "assert type(n) == np.ndarray"
   ]
  },
  {
   "cell_type": "code",
   "execution_count": 3,
   "metadata": {},
   "outputs": [],
   "source": [
    "# npとcpのデータに応じてxpにモジュール(np, cp)を代入する->モジュールが不明な時確認して両方に対応できる\n",
    "x = np.array([1, 2, 3])\n",
    "xp = cp.get_array_module(x)\n",
    "assert xp == np\n",
    "\n",
    "x = cp.array([1, 2, 3])\n",
    "xp = cp.get_array_module(x)\n",
    "assert xp == cp"
   ]
  },
  {
   "cell_type": "markdown",
   "metadata": {},
   "source": [
    "52.2 cudaモジュール"
   ]
  },
  {
   "cell_type": "code",
   "execution_count": 4,
   "metadata": {},
   "outputs": [],
   "source": [
    "# Cupyがインストールされていなくてもエラーを出さず代わりにNumpyを使えるようにする\n",
    "import numpy as np\n",
    "gpu_enable = True\n",
    "try:\n",
    "    import cupy as cp\n",
    "    cupy = cp\n",
    "except ImportError:\n",
    "    gpu_enable = False\n",
    "import sys\n",
    "sys.path.append(r'C:\\Users\\jiwon\\OneDrive\\Desktop\\DL3')\n",
    "from dezero import Variable\n",
    "\n",
    "# Variableにも対応したCupyとNumpy両対応のメソッドを定義\n",
    "\n",
    "# 対応したモジュールを返す\n",
    "def get_array_module(x):\n",
    "    if isinstance(x, Variable):\n",
    "        x = x.data\n",
    "\n",
    "    if not gpu_enable: # インポート時にCupyがインストールされていないならNumpyモジュールを返す\n",
    "        return np\n",
    "    xp = cp.get_array_module(x)\n",
    "    return xp\n",
    "\n",
    "# numpy配列に変換する\n",
    "def as_numpy(x):\n",
    "    if isinstance(x, Variable):\n",
    "        x = x.data\n",
    "\n",
    "    if np.isscalar(x): # numpyスカラをnumpy配列に\n",
    "        return np.array(x)\n",
    "    elif isinstance(x, np.ndarray): # numpy配列はそのまま\n",
    "        return x\n",
    "    return cp.asnumpy(x) # Cupy配列はnumpy配列に\n",
    "\n",
    "# Cupy配列に変換する\n",
    "def as_cupy(x):\n",
    "    if isinstance(x, Variable):\n",
    "        x = x.data\n",
    "\n",
    "    if not gpu_enable:\n",
    "        raise Exception('Cupy cannot be loaded. Install CuPy!')\n",
    "    return cp.asarray(x)"
   ]
  },
  {
   "cell_type": "markdown",
   "metadata": {},
   "source": [
    "52.3 Variable/Layer/DataLoaderクラスの追加実装"
   ]
  },
  {
   "cell_type": "code",
   "execution_count": 5,
   "metadata": {},
   "outputs": [],
   "source": [
    "# dezero/core.py\n",
    "import dezero\n",
    "\n",
    "try:\n",
    "    import cupy\n",
    "    array_types = (np.ndarray, cupy.ndarray)\n",
    "except ImportError:\n",
    "    array_types = (np.ndarray)\n",
    "\n",
    "class Variable:\n",
    "    def __init__(self, data, name=None):\n",
    "        if data is not None:\n",
    "            if not isinstance(data, array_types):\n",
    "                raise TypeError('{} is not supported'.format(type(data)))\n",
    "\n",
    "    def backward(self, retain_grad=False, create_graph=False):\n",
    "        if self.grad is None:\n",
    "            xp = dezero.cuda.get_array_module(self.data)\n",
    "            self.grad = Variable(xp.ones_like(self.data))"
   ]
  },
  {
   "cell_type": "code",
   "execution_count": 1,
   "metadata": {},
   "outputs": [],
   "source": [
    "# dezero/core.py\n",
    "# class Variable\n",
    "def to_cpu(self):\n",
    "    if self.data is not None:\n",
    "        self.data = dezero.cuda.as_numpy(self.data)\n",
    "\n",
    "def to_gpu(self):\n",
    "    if self.data is not None:\n",
    "        self.data = dezero.cuda.as_cupy(self.data)"
   ]
  },
  {
   "cell_type": "code",
   "execution_count": 2,
   "metadata": {},
   "outputs": [],
   "source": [
    "# dezero/layers.py\n",
    "# class Layer\n",
    "def to_cpu(self):\n",
    "    for param in self.params():\n",
    "        param.to_cpu()\n",
    "\n",
    "def to_gpu(self):\n",
    "    for param in self.params():\n",
    "        param.to_gpu()"
   ]
  },
  {
   "cell_type": "code",
   "execution_count": 4,
   "metadata": {},
   "outputs": [],
   "source": [
    "# dezero/dataloader.py\n",
    "# class DataLoader\n",
    "import math\n",
    "import sys\n",
    "sys.path.append(r'C:\\Users\\jiwon\\OneDrive\\Desktop\\DL3')\n",
    "from dezero import cuda\n",
    "\n",
    "def __init__(self, dataset, batch_size, shuffle=True, gpu=False):\n",
    "        self.dataset = dataset\n",
    "        self.batch_size = batch_size\n",
    "        self.shuffle = shuffle\n",
    "        self.data_size = len(dataset)\n",
    "        self.max_iter = math.ceil(self.data_size / batch_size)\n",
    "        self.gpu = gpu\n",
    "\n",
    "        self.reset()\n",
    "\n",
    "def __next__(self):\n",
    "        if self.iteration >= self.max_iter:\n",
    "                self.reset()\n",
    "                raise StopIteration\n",
    "\n",
    "        i, batch_size = self.iteration, self.batch_size\n",
    "        batch_index = self.index[i * batch_size : (i + 1) * batch_size]\n",
    "        batch = [self.dataset[i] for i in batch_index]\n",
    "        xp = cuda.cupy if self.gpu else np\n",
    "        x = xp.array([example[0] for example in batch])\n",
    "        t = xp.array([example[1] for example in batch])\n",
    "\n",
    "        self.iteration += 1\n",
    "        return x, t\n",
    "\n",
    "def to_cpu(self):\n",
    "        self.gpu = False\n",
    "\n",
    "def to_gpu(self):\n",
    "        self.gpu = True"
   ]
  },
  {
   "cell_type": "markdown",
   "metadata": {},
   "source": [
    "# dezero/functions内における全てのnp.xxx()において以下のように置き換える\n",
    "xp = cuda.get_array_module(x)\n",
    "y = xp.sin(x)"
   ]
  },
  {
   "cell_type": "markdown",
   "metadata": {},
   "source": [
    "# dezero/core.py\n",
    "def as_array(x, array_module=np):\n",
    "    if np.isscalar(x):\n",
    "        return array_module.array(x)\n",
    "\n",
    "def add(x0, x1):\n",
    "    x1 = as_array(x1, dezero.cuda.get_array_module(x0.data))\n",
    "    return Add()(x0, x1)\n",
    "\n",
    "def mul(x0, x1):\n",
    "    x1 = as_array(x1, dezero.cida.get_array_module(x0.data))\n",
    "    return Mul()(x0, x1)\n",
    "\n",
    "# sub, rsub, div, rdivでも同じ修正を行う"
   ]
  },
  {
   "cell_type": "markdown",
   "metadata": {},
   "source": [
    "step52.5 GPUでMNISTを学習"
   ]
  },
  {
   "cell_type": "code",
   "execution_count": 2,
   "metadata": {},
   "outputs": [
    {
     "name": "stdout",
     "output_type": "stream",
     "text": [
      "epoch: 1, loss: 1.9478, time: 3.0246[sec]\n",
      "epoch: 2, loss: 1.3087, time: 2.8175[sec]\n",
      "epoch: 3, loss: 0.9371, time: 2.7932[sec]\n",
      "epoch: 4, loss: 0.7463, time: 2.8201[sec]\n",
      "epoch: 5, loss: 0.6386, time: 2.8389[sec]\n"
     ]
    }
   ],
   "source": [
    "import time\n",
    "import sys\n",
    "sys.path.append(r'C:\\Users\\jiwon\\OneDrive\\Desktop\\DL3')\n",
    "import dezero\n",
    "import dezero.functions as F\n",
    "from dezero import optimizers\n",
    "from dezero import DataLoader\n",
    "from dezero.models import MLP\n",
    "\n",
    "\n",
    "max_epoch = 5\n",
    "batch_size = 100\n",
    "\n",
    "train_set = dezero.datasets.MNIST(train=True)\n",
    "train_loader = DataLoader(train_set, batch_size)\n",
    "model = MLP((1000, 10))\n",
    "optimizer = optimizers.SGD().setup(model)\n",
    "\n",
    "\n",
    "# GPU mode\n",
    "if dezero.cuda.gpu_enable:\n",
    "    train_loader.to_gpu()\n",
    "    model.to_gpu()\n",
    "\n",
    "for epoch in range(max_epoch):\n",
    "    start = time.time()\n",
    "    sum_loss = 0\n",
    "\n",
    "    for x, t in train_loader:\n",
    "        y = model(x)\n",
    "        loss = F.softmax_cross_entropy(y, t)\n",
    "        model.cleargrads()\n",
    "        loss.backward()\n",
    "        optimizer.update()\n",
    "        sum_loss += float(loss.data) * len(t)\n",
    "\n",
    "    elapsed_time = time.time() - start\n",
    "    print('epoch: {}, loss: {:.4f}, time: {:.4f}[sec]'.format(\n",
    "        epoch + 1, sum_loss / len(train_set), elapsed_time))"
   ]
  },
  {
   "cell_type": "markdown",
   "metadata": {},
   "source": [
    "stpe53: モデルの保存と読み込み"
   ]
  },
  {
   "cell_type": "markdown",
   "metadata": {},
   "source": [
    "53.1 Numpyのsave関数とload関数"
   ]
  },
  {
   "cell_type": "code",
   "execution_count": 2,
   "metadata": {},
   "outputs": [
    {
     "name": "stdout",
     "output_type": "stream",
     "text": [
      "[1 2 3]\n"
     ]
    }
   ],
   "source": [
    "import numpy as np\n",
    "\n",
    "x = np.array([1,2,3])\n",
    "np.save('test.npy', x)\n",
    "\n",
    "x = np.load('test.npy')\n",
    "print(x)"
   ]
  },
  {
   "cell_type": "code",
   "execution_count": 5,
   "metadata": {},
   "outputs": [
    {
     "name": "stdout",
     "output_type": "stream",
     "text": [
      "[1 2 3]\n",
      "[4 5 6]\n"
     ]
    }
   ],
   "source": [
    "x1 = np.array([1, 2, 3])\n",
    "x2 = np.array([4, 5, 6])\n",
    "np.savez('test2.npz', x1=x1, x2=x2)\n",
    "\n",
    "arrays = np.load('test2.npz')\n",
    "x1 = arrays['x1']\n",
    "x2 = arrays['x2']\n",
    "print(x1)\n",
    "print(x2)"
   ]
  },
  {
   "cell_type": "code",
   "execution_count": 7,
   "metadata": {},
   "outputs": [
    {
     "name": "stdout",
     "output_type": "stream",
     "text": [
      "[1 2 3]\n",
      "[4 5 6]\n"
     ]
    }
   ],
   "source": [
    "x1 = np.array([1, 2, 3])\n",
    "x2 = np.array([4, 5, 6])\n",
    "data = {'x1':x1, 'x2':x2}\n",
    "\n",
    "np.savez('test3.npz', **data)\n",
    "\n",
    "arrays = np.load('test2.npz')\n",
    "x1 = arrays['x1']\n",
    "x2 = arrays['x2']\n",
    "print(x1)\n",
    "print(x2)"
   ]
  },
  {
   "cell_type": "markdown",
   "metadata": {},
   "source": [
    "53.2 Layerクラスのパラメータをフラットに"
   ]
  },
  {
   "cell_type": "code",
   "execution_count": 8,
   "metadata": {},
   "outputs": [],
   "source": [
    "# dezero/layers.py\n",
    "# class Layer:\n",
    "\n",
    "# params_dict: 平坦化したパラメータを保持する辞書 parent_key: 親レイヤの名前（一番上のレイヤには親はいないが次の層からはkeyが代入される）\n",
    "def _flatten_params(self, params_dict, parent_key=\"\"):\n",
    "    for name in self._params:\n",
    "        obj = self.__dict__[name] # 今参照しているレイヤのディクショナリから_params(子レイヤかパラメータ)を読んでobjにする\n",
    "        key = parent_key + '/' + name if parent_key else name # ディクショナリのキーを作成 e.g. 'p2', 'l1/p1'\n",
    "\n",
    "        if isinstance(obj, Layer): # オブジェクトがレイヤーならぱその中にあるパラメータが平坦化され取り出される\n",
    "            obj._flatten_params(params_dict, key)\n",
    "        else: # パラメータならparams_dictに追加していく（平坦化）\n",
    "            params_dict[key] = obj"
   ]
  },
  {
   "cell_type": "code",
   "execution_count": 9,
   "metadata": {},
   "outputs": [
    {
     "name": "stdout",
     "output_type": "stream",
     "text": [
      "{'p2': variable(2), 'p3': variable(3), 'l1/p1': variable(1)}\n"
     ]
    }
   ],
   "source": [
    "import sys\n",
    "sys.path.append(r'C:\\Users\\jiwon\\OneDrive\\Desktop\\DL3')\n",
    "from dezero import Layer, Parameter\n",
    "\n",
    "layer = Layer()\n",
    "\n",
    "l1 = Layer()\n",
    "l1.p1 = Parameter(np.array(1))\n",
    "\n",
    "layer.l1 = l1\n",
    "layer.p2 = Parameter(np.array(2))\n",
    "layer.p3 = Parameter(np.array(3))\n",
    "\n",
    "params_dict = {}\n",
    "layer._flatten_params(params_dict)\n",
    "print(params_dict)"
   ]
  },
  {
   "cell_type": "markdown",
   "metadata": {},
   "source": [
    "53.3 Layerクラスのsave関数とload関数"
   ]
  },
  {
   "cell_type": "code",
   "execution_count": 1,
   "metadata": {},
   "outputs": [],
   "source": [
    "# dezero/layers.py\n",
    "# Layer\n",
    "import os\n",
    "\n",
    "def save_weights(self, path):\n",
    "    self.to_cpu()\n",
    "\n",
    "    params_dict = {}\n",
    "    self._flatten_params(params_dict)\n",
    "    array_dict = {key: param.data for key, param in params_dict.items() if param is not None}\n",
    "\n",
    "    try:\n",
    "        np.savez_compressed(path, **array_dict)\n",
    "    except (Exception, KeyboardInterrupt) as e:\n",
    "        if os.path.exists(path):\n",
    "            os.remove(path)\n",
    "        raise\n",
    "\n",
    "def load_weights(self, path):\n",
    "    npz = np.load(path)\n",
    "    params_dict = {}\n",
    "    self._flatten_params(params_dict)\n",
    "    for key, param in params_dict.items():\n",
    "        param.data = npz[key]"
   ]
  },
  {
   "cell_type": "code",
   "execution_count": 4,
   "metadata": {},
   "outputs": [
    {
     "name": "stdout",
     "output_type": "stream",
     "text": [
      "epoch: 1, loss: 0.4444\n",
      "epoch: 2, loss: 0.4284\n",
      "epoch: 3, loss: 0.4154\n"
     ]
    }
   ],
   "source": [
    "import sys, os\n",
    "sys.path.append(r'C:\\Users\\jiwon\\OneDrive\\Desktop\\DL3')\n",
    "import dezero\n",
    "import dezero.functions as F\n",
    "from dezero import optimizers\n",
    "from dezero import DataLoader\n",
    "from dezero.models import MLP\n",
    "\n",
    "\n",
    "max_epoch = 3\n",
    "batch_size = 100\n",
    "\n",
    "train_set = dezero.datasets.MNIST(train=True)\n",
    "train_loader = DataLoader(train_set, batch_size)\n",
    "model = MLP((1000, 10))\n",
    "optimizer = optimizers.SGD().setup(model)\n",
    "\n",
    "# もしファイルがあればパラメータをロードして上書き、なければ上でランダムに設定された初期値をそのまま使用\n",
    "if os.path.exists('my_mlp.npz'):\n",
    "    model.load_weights('my_mlp.npz')\n",
    "\n",
    "# GPU mode\n",
    "if dezero.cuda.gpu_enable:\n",
    "    train_loader.to_gpu()\n",
    "    model.to_gpu()\n",
    "\n",
    "for epoch in range(max_epoch):\n",
    "    sum_loss = 0\n",
    "\n",
    "    for x, t in train_loader:\n",
    "        y = model(x)\n",
    "        loss = F.softmax_cross_entropy(y, t)\n",
    "        model.cleargrads()\n",
    "        loss.backward()\n",
    "        optimizer.update()\n",
    "        sum_loss += float(loss.data) * len(t)\n",
    "\n",
    "    print('epoch: {}, loss: {:.4f}'.format(\n",
    "        epoch + 1, sum_loss / len(train_set)))\n",
    "\n",
    "model.save_weights('my_mlp.npz')"
   ]
  },
  {
   "cell_type": "code",
   "execution_count": 5,
   "metadata": {},
   "outputs": [
    {
     "data": {
      "text/plain": [
       "5.2981621875000044"
      ]
     },
     "execution_count": 5,
     "metadata": {},
     "output_type": "execute_result"
    }
   ],
   "source": [
    "(1-(0.95)**6) * 20"
   ]
  },
  {
   "cell_type": "code",
   "execution_count": 1,
   "metadata": {},
   "outputs": [
    {
     "data": {
      "text/latex": [
       "$\\displaystyle 3.375$"
      ],
      "text/plain": [
       "3.37500000000000"
      ]
     },
     "execution_count": 1,
     "metadata": {},
     "output_type": "execute_result"
    }
   ],
   "source": [
    "from sympy import symbols, integrate, exp, oo\n",
    "\n",
    "# 定義する変数\n",
    "x = symbols('x')\n",
    "\n",
    "# 関数の定義\n",
    "f1 = (3/32) * x**2  # 0 <= x < 2 の範囲\n",
    "f2 = (3/8) * exp(1 - x/2)  # x >= 2 の範囲\n",
    "\n",
    "# 期待値の積分\n",
    "expectation_1 = integrate(x * f1, (x, 0, 2))  # 0から2までの積分\n",
    "expectation_2 = integrate(x * f2, (x, 2, oo))  # 2から無限大までの積分\n",
    "\n",
    "# 期待値の合計\n",
    "expected_value = expectation_1 + expectation_2\n",
    "expected_value.evalf()  # 数値を計算\n"
   ]
  },
  {
   "cell_type": "code",
   "execution_count": 2,
   "metadata": {},
   "outputs": [
    {
     "data": {
      "text/plain": [
       "[1.78927896868435]"
      ]
     },
     "execution_count": 2,
     "metadata": {},
     "output_type": "execute_result"
    }
   ],
   "source": [
    "import sympy as sp\n",
    "\n",
    "# 定義\n",
    "x = sp.Symbol('x')\n",
    "f1 = 3/32 * x**2  # 0 ≤ x < 2 の部分\n",
    "f2 = 3/8 * sp.exp(1 - x/2)  # x ≥ 2 の部分\n",
    "\n",
    "# 確率密度関数を積分して累積分布関数 F(T) を求める\n",
    "F1 = sp.integrate(f1, (x, 0, 2))  # 0 から 2 までの積分\n",
    "F2 = sp.integrate(f2, (x, 2, x))  # 2 から x までの積分 (一般形)\n",
    "\n",
    "# 総累積分布関数\n",
    "F = F1 + F2\n",
    "\n",
    "# 保証期間を求めるための方程式\n",
    "T = sp.Symbol('T', positive=True)\n",
    "p = sp.solve(F.subs(x, T) - 1/6, T)  # 故障率 1/6 に基づいた保証期間の解を求める\n",
    "p\n"
   ]
  },
  {
   "cell_type": "code",
   "execution_count": null,
   "metadata": {},
   "outputs": [],
   "source": []
  }
 ],
 "metadata": {
  "kernelspec": {
   "display_name": "Python 3",
   "language": "python",
   "name": "python3"
  },
  "language_info": {
   "codemirror_mode": {
    "name": "ipython",
    "version": 3
   },
   "file_extension": ".py",
   "mimetype": "text/x-python",
   "name": "python",
   "nbconvert_exporter": "python",
   "pygments_lexer": "ipython3",
   "version": "3.12.4"
  }
 },
 "nbformat": 4,
 "nbformat_minor": 2
}
