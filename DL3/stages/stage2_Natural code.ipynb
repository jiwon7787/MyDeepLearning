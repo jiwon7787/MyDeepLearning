{
 "cells": [
  {
   "cell_type": "code",
   "execution_count": 2,
   "metadata": {},
   "outputs": [],
   "source": [
    "import numpy as np"
   ]
  },
  {
   "cell_type": "markdown",
   "metadata": {},
   "source": [
    "step11: 可変長の引数（順伝播）"
   ]
  },
  {
   "cell_type": "markdown",
   "metadata": {},
   "source": [
    "11.1 Functionクラスの修正"
   ]
  },
  {
   "cell_type": "code",
   "execution_count": 3,
   "metadata": {},
   "outputs": [],
   "source": [
    "class Variable:\n",
    "\n",
    "    def __init__(self, data):\n",
    "        if data is not None:\n",
    "            if not isinstance(data, np.ndarray): # dataがndarrayインスタンスではない時\n",
    "                raise TypeError('{} is not supported'.format(type(data))) # 入力されたdataのデータ型を{}に表示\n",
    "\n",
    "        self.data = data\n",
    "        self.grad = None\n",
    "        self.creator = None\n",
    "\n",
    "    def set_creator(self, func):\n",
    "        self.creator = func\n",
    "\n",
    "    def backward(self):\n",
    "        if self.grad is None:\n",
    "            self.grad = np.ones_like(self.data)\n",
    "\n",
    "        funcs = [self.creator]\n",
    "        while funcs:\n",
    "            f = funcs.pop()\n",
    "            x, y = f.input, f.output\n",
    "            x.grad = f.backward(y.grad)\n",
    "\n",
    "            if x.creator is not None:\n",
    "                funcs.append(x.creator)"
   ]
  },
  {
   "cell_type": "code",
   "execution_count": 4,
   "metadata": {},
   "outputs": [],
   "source": [
    "def as_array(x):\n",
    "    if np.isscalar(x): # もしfloatなどのスカラ系の型なら\n",
    "        return np.array(x) # 改めて型をndarrayにする\n",
    "    return x"
   ]
  },
  {
   "cell_type": "code",
   "execution_count": 5,
   "metadata": {},
   "outputs": [],
   "source": [
    "class Function:\n",
    "    def __call__(self, inputs):\n",
    "        # 入力が複数であること想定してリストにする\n",
    "        xs = [x.data for x in inputs] # 複数の入力Variableインスタンスinputsから一つずつxを取り出して、そのインスタンスのデータを新しいリストに格納\n",
    "        ys = self.forward(xs) # この時点では出力ysはタプル\n",
    "        # print('ys: ', ys)\n",
    "        # ysタプル内から一つずつ要素yを取り出してndarrayに変換しVariableインスタンスのデータに格納、そのVariableインスタンスを新しいリストに格納する\n",
    "        outputs = [Variable(as_array(y)) for y in ys] #要素が一つでもタプルで渡せば一回だけのループが可能\n",
    "\n",
    "        for output in outputs:\n",
    "            output.set_creator(self) # それぞれの出力Variableインスタンスに対して、出力した親（関数）を関連付ける（皆共通の関数）\n",
    "        self.inputs = inputs\n",
    "        self.outputs = outputs\n",
    "\n",
    "        return outputs\n",
    "\n",
    "    def forward(self, xs):\n",
    "        raise NotImplementedError()\n",
    "\n",
    "    def backward(self, gys):\n",
    "        raise NotImplementedError()"
   ]
  },
  {
   "cell_type": "markdown",
   "metadata": {},
   "source": [
    "11.2 Addクラスの実装"
   ]
  },
  {
   "cell_type": "code",
   "execution_count": 6,
   "metadata": {},
   "outputs": [],
   "source": [
    "class Add(Function):\n",
    "    def forward(self, xs):\n",
    "        x0, x1 = xs\n",
    "        y = x0 + x1\n",
    "        return (y,) # この後ループで回すから要素が一つでもタプルにする必要がある(yだけを返すとこの後エラーになる)"
   ]
  },
  {
   "cell_type": "code",
   "execution_count": 7,
   "metadata": {},
   "outputs": [
    {
     "name": "stdout",
     "output_type": "stream",
     "text": [
      "1\n",
      "[<__main__.Variable object at 0x00000200D0A6FE90>]\n",
      "5\n"
     ]
    }
   ],
   "source": [
    "xs = [Variable(np.array(2)), Variable(np.array(3))]\n",
    "f = Add()\n",
    "ys = f(xs) # 出力は要素一つだけのリスト\n",
    "print(len(ys))\n",
    "print(ys)\n",
    "y = ys[0] # 出力データを見るにはわざわざ出力リストから最初の要素を指定しなければらなない\n",
    "print(y.data)"
   ]
  },
  {
   "cell_type": "markdown",
   "metadata": {},
   "source": [
    "step12: 可変長の引数（改善編）：　"
   ]
  },
  {
   "cell_type": "markdown",
   "metadata": {},
   "source": [
    "12.1 １つ目の改善：関数を使いやすく（関数の引数にリストを必要としない仕様にする）"
   ]
  },
  {
   "cell_type": "code",
   "execution_count": 8,
   "metadata": {},
   "outputs": [],
   "source": [
    "class Function:\n",
    "    def __call__(self, *inputs): # アスタリスクをつけることで任意の数の引数（変長引数）を受け付ける(タプル)＝入力リストを作成しなくていい\n",
    "        xs = [x.data for x in inputs]\n",
    "        ys = self.forward(xs)\n",
    "        outputs = [Variable(as_array(y)) for y in ys]\n",
    "\n",
    "        for output in outputs:\n",
    "            output.set_creator(self)\n",
    "        self.inputs = inputs\n",
    "        self.outputs = outputs\n",
    "        # 出力が複数ならoutputs（リスト）をそのまま返す、出力が一つだけならリストの最初の要素を返す(出力先で指定しなくていい)\n",
    "        return outputs if len(outputs) > 1 else outputs[0]\n",
    "\n",
    "    def forward(self, xs):\n",
    "        raise NotImplementedError()\n",
    "\n",
    "    def backward(self, gys):\n",
    "        raise NotImplementedError()"
   ]
  },
  {
   "cell_type": "code",
   "execution_count": 9,
   "metadata": {},
   "outputs": [],
   "source": [
    "class Add(Function):\n",
    "    def forward(self, xs):\n",
    "        x0, x1 = xs\n",
    "        y = x0 + x1\n",
    "        return (y,) # この後ループで回すため要素が一つでもタプルにする必要がある(yだけを返すとエラーになる)\n",
    "    # 関数の出力がタプルなのは不自然（12.2で改善）"
   ]
  },
  {
   "cell_type": "code",
   "execution_count": 10,
   "metadata": {},
   "outputs": [
    {
     "name": "stdout",
     "output_type": "stream",
     "text": [
      "5\n"
     ]
    }
   ],
   "source": [
    "x0 = Variable(np.array(2))\n",
    "x1 = Variable(np.array(3))\n",
    "f = Add()\n",
    "y = f(x0, x1) # 変長引数のお陰でリストではなく任意の数の引数を代入するだけでいい\n",
    "print(y.data)"
   ]
  },
  {
   "cell_type": "markdown",
   "metadata": {},
   "source": [
    "12.2 ２つ目の改善：関数を実装しやすく（関数の出力をタプルでなくてもいいようにする＝関数の外でタプルにする）"
   ]
  },
  {
   "cell_type": "code",
   "execution_count": 11,
   "metadata": {},
   "outputs": [],
   "source": [
    "class Function:\n",
    "    def __call__(self, *inputs):\n",
    "        xs = [x.data for x in inputs]\n",
    "        ys = self.forward(*xs) # xsリストから全要素を取り出して関数に代入（関数によってysがタプルでない場合がある e.g. 改良型Add関数（下記））\n",
    "        if not isinstance(ys, tuple): # 出力の要素がタプルでない（要素が一つだけである）場合\n",
    "            ys = (ys,) # タプルに変換（次の行でループをするため）：\n",
    "        outputs = [Variable(as_array(y)) for y in ys] # タプル内をループして新しいリストに格納\n",
    "\n",
    "        for output in outputs:\n",
    "            output.set_creator(self)\n",
    "        self.inputs = inputs\n",
    "        self.outputs = outputs\n",
    "        return outputs if len(outputs) > 1 else outputs[0]\n",
    "\n",
    "    def forward(self, xs):\n",
    "        raise NotImplementedError()\n",
    "\n",
    "    def backward(self, gys):\n",
    "        raise NotImplementedError()"
   ]
  },
  {
   "cell_type": "code",
   "execution_count": 12,
   "metadata": {},
   "outputs": [],
   "source": [
    "class Add(Function):\n",
    "    def forward(self, x0, x1):\n",
    "        y = x0 + x1\n",
    "        return y # タプル(y,)で返さなくていい（この後Functionのcall内でタプルに変換してくれる）"
   ]
  },
  {
   "cell_type": "markdown",
   "metadata": {},
   "source": [
    "12.3 add関数の実装"
   ]
  },
  {
   "cell_type": "code",
   "execution_count": 13,
   "metadata": {},
   "outputs": [],
   "source": [
    "def add(x0, x1):\n",
    "    return Add()(x0, x1)\n",
    "\n",
    "# def add(x0, x1)\n",
    "#     f = Add()\n",
    "#     return f(x0, x1)"
   ]
  },
  {
   "cell_type": "code",
   "execution_count": 14,
   "metadata": {},
   "outputs": [
    {
     "name": "stdout",
     "output_type": "stream",
     "text": [
      "5\n"
     ]
    }
   ],
   "source": [
    "x0 = Variable(np.array(2))\n",
    "x1 = Variable(np.array(3))\n",
    "y = add(x0, x1)\n",
    "print(y.data)"
   ]
  },
  {
   "cell_type": "markdown",
   "metadata": {},
   "source": [
    "step13: 可変長の引数(逆伝播編)"
   ]
  },
  {
   "cell_type": "markdown",
   "metadata": {},
   "source": [
    "13.1 可変長引数に対応したAddクラスの逆伝播"
   ]
  },
  {
   "cell_type": "code",
   "execution_count": 15,
   "metadata": {},
   "outputs": [],
   "source": [
    "class Add(Function):\n",
    "\n",
    "    def forward(self, x0, x1):\n",
    "        y = x0 + x1\n",
    "        return y\n",
    "\n",
    "    def backward(self, gy):\n",
    "        return gy, gy\n"
   ]
  },
  {
   "cell_type": "markdown",
   "metadata": {},
   "source": [
    "13.2 Variableクラスの修正(複数の変数に対応)"
   ]
  },
  {
   "cell_type": "code",
   "execution_count": 16,
   "metadata": {},
   "outputs": [],
   "source": [
    "class Variable:\n",
    "\n",
    "    def __init__(self, data):\n",
    "        if data is not None:\n",
    "            if not isinstance(data, np.ndarray):\n",
    "                raise TypeError('{} is not supported'.format(type(data)))\n",
    "\n",
    "        self.data = data\n",
    "        self.grad = None\n",
    "        self.creator = None\n",
    "\n",
    "    def set_creator(self, func):\n",
    "        self.creator = func\n",
    "\n",
    "    def backward(self):\n",
    "        if self.grad is None:\n",
    "            self.grad = np.ones_like(self.data)\n",
    "\n",
    "        funcs = [self.creator]\n",
    "        while funcs:\n",
    "            f = funcs.pop()\n",
    "            # x, y = f.input, f.output\n",
    "            # x.grad = f.backward(y.grad)\n",
    "            # 渡される微分が複数あることを想定する\n",
    "            gys = [output.grad for output in f.outputs] # 関数の出力Variableインスタンスが保持する微分を新しいリストに格納\n",
    "            gxs = f.backward(*gys) # リストを展開して微分を渡して逆伝播計算\n",
    "            if not isinstance(gxs, tuple): # タプルでない(単なる出力結果が返される)場合\n",
    "                gxs = (gxs, ) # タプルにする（要素が一つの場合でも次の行でループできる）\n",
    "\n",
    "            for x, gx in zip(f.inputs, gxs): # i番目の入力xとgxが対応する\n",
    "                x.grad = gx # Variableインスタンスのxにおける微分データを格納\n",
    "                if x.creator is not None: # その変数に親がいる場合\n",
    "                    funcs.append(x.creator) # その親を関数リストに追加してもう１回ループ"
   ]
  },
  {
   "cell_type": "markdown",
   "metadata": {},
   "source": [
    "13.3 Squareクラスの対応"
   ]
  },
  {
   "cell_type": "code",
   "execution_count": 17,
   "metadata": {},
   "outputs": [],
   "source": [
    "class Function:\n",
    "    def __call__(self, *inputs):\n",
    "        xs = [x.data for x in inputs]\n",
    "        ys = self.forward(*xs) # xsリストから全要素を取り出して関数に代入（関数によってysがタプルでない場合がある e.g. 改良型Add関数（下記））\n",
    "        if not isinstance(ys, tuple): # 出力の要素がタプルでない（関数が出力だけを返す：関数としてより自然）場合\n",
    "            ys = (ys,) # タプルに変換（次の行でループをするため）：\n",
    "        outputs = [Variable(as_array(y)) for y in ys] # タプル内をループして新しいリストに格納\n",
    "\n",
    "        for output in outputs:\n",
    "            output.set_creator(self)\n",
    "        self.inputs = inputs\n",
    "        self.outputs = outputs\n",
    "        return outputs if len(outputs) > 1 else outputs[0]\n",
    "\n",
    "    def forward(self, xs):\n",
    "        raise NotImplementedError()\n",
    "\n",
    "    def backward(self, gys):\n",
    "        raise NotImplementedError()"
   ]
  },
  {
   "cell_type": "code",
   "execution_count": 18,
   "metadata": {},
   "outputs": [
    {
     "name": "stdout",
     "output_type": "stream",
     "text": [
      "(23, 23)\n",
      "46\n"
     ]
    }
   ],
   "source": [
    "class Square(Function):\n",
    "\n",
    "    def forward(self, x):\n",
    "        y = x ** 2\n",
    "        return y\n",
    "\n",
    "    def backward(self, gy):\n",
    "        # x = self.input.data\n",
    "        x = self.inputs[0].data # *inputs（変長引数）で受け取ると要素が１つでもタプルで受け取るため、計算する際に指定する必要がある\n",
    "        gx = 2 * x * gy\n",
    "        return gx\n",
    "\n",
    "def test(*inputs):\n",
    "    print(inputs*2) # タプルのまま計算（要素数が２倍に）\n",
    "    print(inputs[0]*2) # タプルから指定して要素を取り出して計算\n",
    "    return\n",
    "\n",
    "test(23)"
   ]
  },
  {
   "cell_type": "code",
   "execution_count": 19,
   "metadata": {},
   "outputs": [],
   "source": [
    "def square(x):\n",
    "    return Square() (x)"
   ]
  },
  {
   "cell_type": "code",
   "execution_count": 20,
   "metadata": {},
   "outputs": [
    {
     "name": "stdout",
     "output_type": "stream",
     "text": [
      "5.0 <class 'numpy.ndarray'>\n",
      "9.0 <class 'numpy.ndarray'>\n",
      "13.0\n",
      "4.0\n",
      "6.0\n"
     ]
    }
   ],
   "source": [
    "x = Variable(np.array(2.0))\n",
    "y = Variable(np.array(3.0))\n",
    "# a = Variable(x.data + y.data) # 0次元の演算はスカラー（float)になってしまうから改めてnp.arrayに変換する必要がある\n",
    "# print(a.data, type(a.data))\n",
    "a = add(x,y) # add関数を通せば、call内で出力がスカラーになってもnp.arrayに変換してかつVariableインスタンスのデータに格納して返してくれる\n",
    "print(a.data, type(a.data))\n",
    "\n",
    "b = square(y) # 同様にcall内で出力がスカラーになってもnp.arrayに変換してかつVariableインスタンスのデータに格納して返してくれる\n",
    "print(b.data, type(b.data))\n",
    "\n",
    "z = add(square(x), square(y))\n",
    "z.backward()\n",
    "print(z.data)\n",
    "print(x.grad) # x以外の変数を定数と考えてx=2.0とした時の微分(x=2.0に微小の変化与えた時の、zにおける変化量（x=2.0の接線）)\n",
    "print(y.grad) # y以外の変数を定数と考えてy=3.0とした時の微分(y=3.0に微小の変化与えた時の、zにおける変化量（y=3.0の接線）)"
   ]
  },
  {
   "cell_type": "markdown",
   "metadata": {},
   "source": [
    "step14: 同じ変数を繰り返す"
   ]
  },
  {
   "cell_type": "markdown",
   "metadata": {},
   "source": [
    "14.2 同じ微分は上書きでなく加算する　＆　微分のリセット（同じ変数で別の計算を行う時）"
   ]
  },
  {
   "cell_type": "code",
   "execution_count": 21,
   "metadata": {},
   "outputs": [],
   "source": [
    "class Variable:\n",
    "\n",
    "    def __init__(self, data):\n",
    "        if data is not None:\n",
    "            if not isinstance(data, np.ndarray):\n",
    "                raise TypeError('{} is not supported'.format(type(data)))\n",
    "\n",
    "        self.data = data\n",
    "        self.grad = None\n",
    "        self.creator = None\n",
    "\n",
    "    def set_creator(self, func):\n",
    "        self.creator = func\n",
    "\n",
    "    def backward(self):\n",
    "        if self.grad is None:\n",
    "            self.grad = np.ones_like(self.data)\n",
    "\n",
    "        funcs = [self.creator]\n",
    "        while funcs:\n",
    "            f = funcs.pop()\n",
    "            gys = [output.grad for output in f.outputs]\n",
    "            gxs = f.backward(*gys)\n",
    "            if not isinstance(gxs, tuple):\n",
    "                gxs = (gxs, )\n",
    "\n",
    "            for x, gx in zip(f.inputs, gxs):\n",
    "                if x.grad is None: # 初めて扱われる微分の場合\n",
    "                    x.grad = gx # 微分を代入\n",
    "                else: # 同一の微分の場合（同じ変数が入力された場合）\n",
    "                    x.grad = x.grad + gx # 更新ではなく加算する\n",
    "                    # x.grad += gxを使うと、渡された微分(gx)がx.gradと同じオブジェクトIDを持ち（x.gradに上書きされ）、結果gxがx.gradと同じ値になってしまう\n",
    "\n",
    "\n",
    "                if x.creator is not None:\n",
    "                    funcs.append(x.creator)\n",
    "\n",
    "    def cleargrad(self): # 別の計算をする時このメソッドを呼ぶ\n",
    "        self.grad = None"
   ]
  },
  {
   "cell_type": "markdown",
   "metadata": {},
   "source": [
    "step15, 16: 複雑な計算グラフの対応"
   ]
  },
  {
   "cell_type": "markdown",
   "metadata": {},
   "source": [
    "16.1 世代の追加"
   ]
  },
  {
   "cell_type": "code",
   "execution_count": 22,
   "metadata": {},
   "outputs": [],
   "source": [
    "class Variable:\n",
    "\n",
    "    def __init__(self, data):\n",
    "        if data is not None:\n",
    "            if not isinstance(data, np.ndarray):\n",
    "                raise TypeError('{} is not supported'.format(type(data)))\n",
    "\n",
    "        self.data = data\n",
    "        self.grad = None\n",
    "        self.creator = None\n",
    "        self.generation = 0 #親がいない最初の入力は第０世代\n",
    "\n",
    "    def set_creator(self, func):\n",
    "        self.creator = func\n",
    "        self.generation = func.generation + 1 # 親(関数)から生み出されたからその出力変数の世代は親より１つ先(親がいない最初の入力は第０世代)\n",
    "\n",
    "    def backward(self):\n",
    "        if self.grad is None:\n",
    "            self.grad = np.ones_like(self.data)\n",
    "\n",
    "        funcs = [self.creator]\n",
    "        while funcs:\n",
    "            f = funcs.pop()\n",
    "            gys = [output.grad for output in f.outputs]\n",
    "            gxs = f.backward(*gys)\n",
    "            if not isinstance(gxs, tuple):\n",
    "                gxs = (gxs, )\n",
    "\n",
    "            for x, gx in zip(f.inputs, gxs):\n",
    "                if x.grad is None:\n",
    "                    x.grad = gx\n",
    "                else:\n",
    "                    x.grad = x.grad + gx\n",
    "\n",
    "                if x.creator is not None:\n",
    "                    funcs.append(x.creator)\n",
    "\n",
    "    def cleargrad(self):\n",
    "        self.grad = None"
   ]
  },
  {
   "cell_type": "code",
   "execution_count": 23,
   "metadata": {},
   "outputs": [],
   "source": [
    "class Function:\n",
    "    def __call__(self, *inputs):\n",
    "        xs = [x.data for x in inputs]\n",
    "        ys = self.forward(*xs)\n",
    "        if not isinstance(ys, tuple):\n",
    "            ys = (ys,)\n",
    "        outputs = [Variable(as_array(y)) for y in ys]\n",
    "\n",
    "        # 関数の世代はその入力の世代に合わせる（0世代：入力＋関数、1世代：入力(前の関数の出力)+関数...）\n",
    "        self.generation = max([x.generation for x in inputs]) # 入力変数が複数ある時、世代が大きい方を採用（ある出力がある関数をスキップして合流することがある）\n",
    "\n",
    "        for output in outputs:\n",
    "            output.set_creator(self)\n",
    "        self.inputs = inputs\n",
    "        self.outputs = outputs\n",
    "        return outputs if len(outputs) > 1 else outputs[0]\n",
    "\n",
    "    def forward(self, xs):\n",
    "        raise NotImplementedError()\n",
    "\n",
    "    def backward(self, gys):\n",
    "        raise NotImplementedError()"
   ]
  },
  {
   "cell_type": "markdown",
   "metadata": {},
   "source": [
    "16.2, 16.3 世代順に取り出すVariableクラスののbackward"
   ]
  },
  {
   "cell_type": "code",
   "execution_count": 24,
   "metadata": {},
   "outputs": [],
   "source": [
    "class Square(Function):\n",
    "\n",
    "    def forward(self, x):\n",
    "        y = x ** 2\n",
    "        return y\n",
    "\n",
    "    def backward(self, gy):\n",
    "        x = self.inputs[0].data # *inputs（変長引数）で受け取ると要素が１つでもタプルで受け取るため、計算する際に指定する必要がある\n",
    "        gx = 2 * x * gy\n",
    "        return gx # 演算後にスカラ値になる"
   ]
  },
  {
   "cell_type": "code",
   "execution_count": 25,
   "metadata": {},
   "outputs": [],
   "source": [
    "class Add(Function):\n",
    "\n",
    "    def forward(self, x0, x1):\n",
    "        y = x0 + x1\n",
    "        return y\n",
    "\n",
    "    def backward(self, gy):\n",
    "        return gy, gy # Addはそのまま流すから出力の微分gy(np.array)を受け取った場合, np.arrayの型のままである（スカラ値を受け取ればスカラ値をそのまま流す）"
   ]
  },
  {
   "cell_type": "code",
   "execution_count": 26,
   "metadata": {},
   "outputs": [],
   "source": [
    "class Variable:\n",
    "\n",
    "    def __init__(self, data):\n",
    "        if data is not None:\n",
    "            if not isinstance(data, np.ndarray):\n",
    "                raise TypeError('{} is not supported'.format(type(data)))\n",
    "\n",
    "        self.data = data\n",
    "        self.grad = None\n",
    "        self.creator = None\n",
    "        self.generation = 0 #親がいない最初の入力は第０世代\n",
    "\n",
    "    def set_creator(self, func):\n",
    "        self.creator = func\n",
    "        self.generation = func.generation + 1 # 親(関数)から生み出されたからその出力変数の世代は親より１つ先(親がいない最初の入力は第０世代)\n",
    "\n",
    "    def backward(self):\n",
    "        if self.grad is None:\n",
    "            self.grad = np.ones_like(self.data)\n",
    "\n",
    "        funcs = [] # この時点ではまだリストに追加しない\n",
    "        seen_set = set() # 重複を許さないリストを作成\n",
    "\n",
    "        # 関数(親)が今までに使われたかをチェックし\n",
    "        def add_func(f):\n",
    "            if f not in seen_set: # 今までに同じ関数が使われていない場合\n",
    "                # print('First time to see in', f, f.generation, 'generation')\n",
    "                funcs.append(f) # 関数リストに追加\n",
    "                seen_set.add(f) # 次回以降同じ関数は弾かれる\n",
    "                funcs.sort(key=lambda x: x.generation) # 関数リスト内を世代順にソート\n",
    "                # リスト内の関数の世代が[2]→[1,1]→[1,0]になるがソートされて[0,1]になる\n",
    "                # [2]→[1,1]→[0,1]→１世代の逆伝播が２回あるため、２回１世代の親が呼ばれてseen_setで弾かないと関数リストが[0,0]になり２回同一の計算が行われしまう\n",
    "            # else:\n",
    "            #     print(f,'has been already used in ', f.generation, 'generation')\n",
    "\n",
    "        add_func(self.creator) # 最初(一番出力側)の関数だけ手動で代入（それ以降はループ内のadd_funcsで繰り返す）\n",
    "\n",
    "        while funcs:\n",
    "            # print(funcs)\n",
    "            f = funcs.pop() # 世代順にソートされたfuncsリストの末尾を取り出していく\n",
    "            gys = [output.grad for output in f.outputs]\n",
    "            gxs = f.backward(*gys)\n",
    "            if not isinstance(gxs, tuple): # Addの逆伝播はタプルで返される\n",
    "                gxs = (gxs, )\n",
    "\n",
    "            for x, gx in zip(f.inputs, gxs): # ２つの入力(関数addなど)がある場合,\n",
    "                if x.grad is None:\n",
    "                    x.grad = gx\n",
    "                else:\n",
    "                    x.grad = x.grad + gx\n",
    "\n",
    "                if x.creator is not None:\n",
    "                    add_func(x.creator) # その２つの入力に対する２つの親（関数）がadd_func()を通してfuncsリストに追加される）\n",
    "\n",
    "    def cleargrad(self):\n",
    "        self.grad = None"
   ]
  },
  {
   "cell_type": "code",
   "execution_count": 27,
   "metadata": {},
   "outputs": [
    {
     "name": "stdout",
     "output_type": "stream",
     "text": [
      "32.0\n",
      "1.0\n",
      "1.0\n",
      "16.0\n",
      "64.0\n"
     ]
    }
   ],
   "source": [
    "x = Variable(np.array(2.0))\n",
    "a = square(x)\n",
    "b = square(a)\n",
    "c = square(a)\n",
    "y = add(b, c)\n",
    "y.backward()\n",
    "\n",
    "print(y.data)\n",
    "print(c.grad)\n",
    "print(b.grad)\n",
    "print(a.grad)\n",
    "print(x.grad)"
   ]
  },
  {
   "cell_type": "markdown",
   "metadata": {},
   "source": [
    "step17: メモリ管理"
   ]
  },
  {
   "cell_type": "markdown",
   "metadata": {},
   "source": [
    "17.4 weakrefモジュール（循環参照→弱参照）: GCで循環参照は上手く処理されるがトータルのメモリを抑えるには循環参照を作らないのがベスト"
   ]
  },
  {
   "cell_type": "code",
   "execution_count": 28,
   "metadata": {},
   "outputs": [],
   "source": [
    "import weakref"
   ]
  },
  {
   "cell_type": "code",
   "execution_count": 29,
   "metadata": {},
   "outputs": [],
   "source": [
    "\n",
    "class Function:\n",
    "    def __call__(self, *inputs):\n",
    "        self.generation = max([x.generation for x in inputs])\n",
    "        xs = [x.data for x in inputs]\n",
    "        ys = self.forward(*xs)\n",
    "        if not isinstance(ys, tuple):\n",
    "            ys = (ys,)\n",
    "        outputs = [Variable(as_array(y)) for y in ys]\n",
    "\n",
    "        for output in outputs:\n",
    "            output.set_creator(self)\n",
    "        self.inputs = inputs\n",
    "        # self.outputs = outputs # 循環参照を引き起こす（親から子、子から親が参照し合っている）\n",
    "        self.outputs = [weakref.ref(output) for output in outputs] # 親から子に対して、参照カウントを増やさずに参照（弱参照）\n",
    "        return outputs if len(outputs) > 1 else outputs[0]\n",
    "\n",
    "    def forward(self, xs):\n",
    "        raise NotImplementedError()\n",
    "\n",
    "    def backward(self, gys):\n",
    "        raise NotImplementedError()"
   ]
  },
  {
   "cell_type": "code",
   "execution_count": 30,
   "metadata": {},
   "outputs": [],
   "source": [
    "class Variable:\n",
    "\n",
    "    def __init__(self, data):\n",
    "        if data is not None:\n",
    "            if not isinstance(data, np.ndarray):\n",
    "                raise TypeError('{} is not supported'.format(type(data)))\n",
    "\n",
    "        self.data = data\n",
    "        self.grad = None\n",
    "        self.creator = None\n",
    "        self.generation = 0\n",
    "\n",
    "    def set_creator(self, func):\n",
    "        self.creator = func\n",
    "        self.generation = func.generation + 1\n",
    "\n",
    "    def backward(self):\n",
    "        if self.grad is None:\n",
    "            self.grad = np.ones_like(self.data)\n",
    "\n",
    "        funcs = []\n",
    "        seen_set = set()\n",
    "\n",
    "        def add_func(f):\n",
    "            if f not in seen_set:\n",
    "                funcs.append(f)\n",
    "                seen_set.add(f)\n",
    "                funcs.sort(key=lambda x: x.generation)\n",
    "\n",
    "        add_func(self.creator)\n",
    "\n",
    "        while funcs:\n",
    "            f = funcs.pop()\n",
    "            # gys = [output.grad for output in f.outputs] # 弱参照にしたため親から子を直接参照できない\n",
    "            gys = [output().grad for output in f.outputs] # 弱参照のデータにアクセスするには（）を加える\n",
    "            gxs = f.backward(*gys)\n",
    "            if not isinstance(gxs, tuple):\n",
    "                gxs = (gxs, )\n",
    "\n",
    "            for x, gx in zip(f.inputs, gxs):\n",
    "                if x.grad is None:\n",
    "                    x.grad = gx\n",
    "                else:\n",
    "                    x.grad = x.grad + gx\n",
    "\n",
    "                if x.creator is not None:\n",
    "                    add_func(x.creator)\n",
    "\n",
    "    def cleargrad(self):\n",
    "        self.grad = None"
   ]
  },
  {
   "cell_type": "code",
   "execution_count": 31,
   "metadata": {},
   "outputs": [],
   "source": [
    "# 循環参照有りと無しにおけるメモリ使用量のグラフを参照（Memory Usage Circular reference.pngとMemory Usage Non-Circular reference.png）"
   ]
  },
  {
   "cell_type": "markdown",
   "metadata": {},
   "source": [
    "step18: メモリ使用量を減らすモード"
   ]
  },
  {
   "cell_type": "markdown",
   "metadata": {},
   "source": [
    "18.1 不要な微分は保持しない"
   ]
  },
  {
   "cell_type": "code",
   "execution_count": 32,
   "metadata": {},
   "outputs": [],
   "source": [
    "\n",
    "class Function:\n",
    "    def __call__(self, *inputs):\n",
    "        self.generation = max([x.generation for x in inputs])\n",
    "        xs = [x.data for x in inputs]\n",
    "        ys = self.forward(*xs)\n",
    "        if not isinstance(ys, tuple):\n",
    "            ys = (ys,)\n",
    "        outputs = [Variable(as_array(y)) for y in ys]\n",
    "\n",
    "        for output in outputs:\n",
    "            output.set_creator(self)\n",
    "        self.inputs = inputs\n",
    "        self.outputs = outputs # 循環参照を引き起こす（親から子、子から親が参照し合っている）# Jupyterではこれでやる\n",
    "        # self.outputs = [weakref.ref(output) for output in outputs] # 親から子に対して、参照カウントを増やさずに参照（弱参照）# Jupyterではエラーになるからpythonファイルで実行\n",
    "        return outputs if len(outputs) > 1 else outputs[0]\n",
    "\n",
    "    def forward(self, xs):\n",
    "        raise NotImplementedError()\n",
    "\n",
    "    def backward(self, gys):\n",
    "        raise NotImplementedError()"
   ]
  },
  {
   "cell_type": "code",
   "execution_count": 33,
   "metadata": {},
   "outputs": [],
   "source": [
    "class Variable:\n",
    "\n",
    "    def __init__(self, data):\n",
    "        if data is not None:\n",
    "            if not isinstance(data, np.ndarray):\n",
    "                raise TypeError('{} is not supported'.format(type(data)))\n",
    "\n",
    "        self.data = data\n",
    "        self.grad = None\n",
    "        self.creator = None\n",
    "        self.generation = 0\n",
    "\n",
    "    def set_creator(self, func):\n",
    "        self.creator = func\n",
    "        self.generation = func.generation + 1\n",
    "\n",
    "    def backward(self, retain_grad=False): # 微分を保持するかの設定（デフォルトは保持しない）\n",
    "        if self.grad is None:\n",
    "            self.grad = np.ones_like(self.data)\n",
    "\n",
    "        funcs = []\n",
    "        seen_set = set()\n",
    "\n",
    "        def add_func(f):\n",
    "            if f not in seen_set:\n",
    "                funcs.append(f)\n",
    "                seen_set.add(f)\n",
    "                funcs.sort(key=lambda x: x.generation)\n",
    "\n",
    "        add_func(self.creator)\n",
    "\n",
    "        while funcs:\n",
    "            f = funcs.pop()\n",
    "            gys = [output.grad for output in f.outputs]\n",
    "            # gys = [output().grad for output in f.outputs] # 弱参照のデータにアクセスするには（）を加える\n",
    "            gxs = f.backward(*gys)\n",
    "            if not isinstance(gxs, tuple):\n",
    "                gxs = (gxs, )\n",
    "\n",
    "            for x, gx in zip(f.inputs, gxs):\n",
    "                if x.grad is None:\n",
    "                    x.grad = gx\n",
    "                else:\n",
    "                    x.grad = x.grad + gx\n",
    "\n",
    "                if x.creator is not None:\n",
    "                    add_func(x.creator)\n",
    "\n",
    "            # デフォルトのままなら微分は消去する\n",
    "            if not retain_grad:\n",
    "                for y in f.outputs: # 関数の出力に対する微分消去（＝最初の入力における微分だけ保持される）\n",
    "                    y.grad = None\n",
    "                    # y().grad = None # f.outputsの要素は弱参照データアクセスのため()を加える\n",
    "\n",
    "    def cleargrad(self):\n",
    "        self.grad = None"
   ]
  },
  {
   "cell_type": "code",
   "execution_count": 34,
   "metadata": {},
   "outputs": [
    {
     "name": "stdout",
     "output_type": "stream",
     "text": [
      "None\n",
      "None\n",
      "None\n",
      "64.0\n"
     ]
    }
   ],
   "source": [
    "x = Variable(np.array(2.0))\n",
    "a = square(x)\n",
    "b = square(a)\n",
    "c = square(a)\n",
    "y = add(b, c)\n",
    "y.backward()\n",
    "\n",
    "print(c.grad)\n",
    "print(b.grad)\n",
    "print(a.grad)\n",
    "print(x.grad)"
   ]
  },
  {
   "cell_type": "markdown",
   "metadata": {},
   "source": [
    "18.2, 18.3, 18.4 Configクラスによる切り替え"
   ]
  },
  {
   "cell_type": "code",
   "execution_count": 35,
   "metadata": {},
   "outputs": [],
   "source": [
    "class Config:\n",
    "    enable_backprop = True # 逆伝播をするかしないかの設定"
   ]
  },
  {
   "cell_type": "code",
   "execution_count": 36,
   "metadata": {},
   "outputs": [],
   "source": [
    "\n",
    "class Function:\n",
    "    def __call__(self, *inputs):\n",
    "        xs = [x.data for x in inputs]\n",
    "        ys = self.forward(*xs)\n",
    "        if not isinstance(ys, tuple):\n",
    "            ys = (ys,)\n",
    "        outputs = [Variable(as_array(y)) for y in ys]\n",
    "\n",
    "        if Config.enable_backprop: # 設定がオンなら逆伝播のために世代設定、親と子の関連付け、メンバ変数に入力と出力をの保持を行う\n",
    "            self.generation = max([x.generation for x in inputs])\n",
    "\n",
    "            for output in outputs:\n",
    "                output.set_creator(self)\n",
    "            self.inputs = inputs\n",
    "            self.outputs = outputs # 循環参照を引き起こす（親から子、子から親が参照し合っている）# Jupyterではこれでやる\n",
    "            # self.outputs = [weakref.ref(output) for output in outputs] # 親から子に対して、参照カウントを増やさずに参照（弱参照）# Jupyterではエラーになるからpythonファイルで実行\n",
    "        return outputs if len(outputs) > 1 else outputs[0]\n",
    "\n",
    "    def forward(self, xs):\n",
    "        raise NotImplementedError()\n",
    "\n",
    "    def backward(self, gys):\n",
    "        raise NotImplementedError()"
   ]
  },
  {
   "cell_type": "code",
   "execution_count": 37,
   "metadata": {},
   "outputs": [],
   "source": [
    "class Square(Function):\n",
    "\n",
    "    def forward(self, x):\n",
    "        y = x ** 2\n",
    "        return y\n",
    "\n",
    "    def backward(self, gy):\n",
    "        x = self.inputs[0].data # *inputs（変長引数）で受け取ると要素が１つでもタプルで受け取るため、計算する際に指定する必要がある\n",
    "        gx = 2 * x * gy\n",
    "        return gx # 演算後にスカラ値になる"
   ]
  },
  {
   "cell_type": "code",
   "execution_count": 38,
   "metadata": {},
   "outputs": [],
   "source": [
    "class Add(Function):\n",
    "\n",
    "    def forward(self, x0, x1):\n",
    "        y = x0 + x1\n",
    "        return y\n",
    "\n",
    "    def backward(self, gy):\n",
    "        return gy, gy # Addはそのまま流すから出力の微分gy(np.array)を受け取った場合, np.arrayの型のままである（スカラ値を受け取ればスカラ値をそのまま流す）"
   ]
  },
  {
   "cell_type": "code",
   "execution_count": 39,
   "metadata": {},
   "outputs": [
    {
     "name": "stdout",
     "output_type": "stream",
     "text": [
      "<__main__.Variable object at 0x00000200B240A4E0>\n"
     ]
    },
    {
     "data": {
      "text/plain": [
       "<bound method Variable.backward of <__main__.Variable object at 0x00000200D0AF3FE0>>"
      ]
     },
     "execution_count": 39,
     "metadata": {},
     "output_type": "execute_result"
    }
   ],
   "source": [
    "Config.enable_backprop = False\n",
    "x = Variable(np.ones((100, 100, 100)))\n",
    "y = square(square(square(x)))\n",
    "print(y)\n",
    "\n",
    "Config.enable_backprop = True\n",
    "x = Variable(np.ones((100, 100, 100)))\n",
    "y = square(square(square(x)))\n",
    "y.backward"
   ]
  },
  {
   "cell_type": "markdown",
   "metadata": {},
   "source": [
    "18.5 with文によるConfigの自動切り替え（前処理（yield前）＋with文内処理＋(yield後)後処理）"
   ]
  },
  {
   "cell_type": "code",
   "execution_count": 40,
   "metadata": {},
   "outputs": [],
   "source": [
    "import contextlib\n",
    "\n",
    "@contextlib.contextmanager # with文内のメイン処理(前伝播)に対する前処理(一時的に逆伝播を無効化)と後処理(デフォルトに戻す)を定義する\n",
    "def using_config(name, value):\n",
    "    old_value = getattr(Config, name) #　Configクラスのname(enable_backprop)におけるデフォルト設定(Trueを想定)を取得\n",
    "    setattr(Config, name, value) # Configクラスにおけるname(enable_backprop)をvalue(False)にセット（逆伝播しない）\n",
    "    try: # エラー発生の可能性があるコード\n",
    "        yield # メイン処理（with文内：前伝播）に移動\n",
    "    finally: # エラーの有無に関係なく必ず実行するコード\n",
    "        # メイン処理が終わったらここから再開\n",
    "        setattr(Config, name, old_value) # Configクラスにおけるname(enable_backprop)をvalue(True)に戻す（逆伝播する）"
   ]
  },
  {
   "cell_type": "code",
   "execution_count": 41,
   "metadata": {},
   "outputs": [],
   "source": [
    "# 逆伝播のためのデータ（世代や入出力データ）を保持しない：前伝播の計算だけする＝推論\n",
    "# 前伝播が終わると逆伝播のデータ保持設定（デフォルト）に戻る\n",
    "with using_config(\"enable_backprop\", False):\n",
    "    x = Variable(np.array(2.0))\n",
    "    y = square(x)"
   ]
  },
  {
   "cell_type": "code",
   "execution_count": 42,
   "metadata": {},
   "outputs": [],
   "source": [
    "def no_grad(): # using_config(\"enable_backprop\", False)を簡略化\n",
    "    return using_config(\"enable_backprop\", False)"
   ]
  },
  {
   "cell_type": "code",
   "execution_count": 43,
   "metadata": {},
   "outputs": [],
   "source": [
    "with no_grad():\n",
    "    x = Variable(np.array(2.0))\n",
    "    y = square(x)"
   ]
  },
  {
   "cell_type": "markdown",
   "metadata": {},
   "source": [
    "step19: 変数を使いやすく"
   ]
  },
  {
   "cell_type": "markdown",
   "metadata": {},
   "source": [
    "19.1, 19.2, 19.3, 19.4 変数に名前をつける+Variableインスタンスをndarrayインスタンス(data)のように見せかける"
   ]
  },
  {
   "cell_type": "code",
   "execution_count": 44,
   "metadata": {},
   "outputs": [],
   "source": [
    "class Variable:\n",
    "\n",
    "    def __init__(self, data, name=None):\n",
    "        if data is not None:\n",
    "            if not isinstance(data, np.ndarray):\n",
    "                raise TypeError('{} is not supported'.format(type(data)))\n",
    "\n",
    "        self.data = data\n",
    "        self.name = name # 変数に名前を付加\n",
    "        self.grad = None\n",
    "        self.creator = None\n",
    "        self.generation = 0\n",
    "\n",
    "    def set_creator(self, func):\n",
    "        self.creator = func\n",
    "        self.generation = func.generation + 1\n",
    "\n",
    "    def backward(self, retain_grad=False):\n",
    "        if self.grad is None:\n",
    "            self.grad = np.ones_like(self.data)\n",
    "\n",
    "        funcs = []\n",
    "        seen_set = set()\n",
    "\n",
    "        def add_func(f):\n",
    "            if f not in seen_set:\n",
    "                funcs.append(f)\n",
    "                seen_set.add(f)\n",
    "                funcs.sort(key=lambda x: x.generation)\n",
    "\n",
    "        add_func(self.creator)\n",
    "\n",
    "        while funcs:\n",
    "            f = funcs.pop()\n",
    "            gys = [output.grad for output in f.outputs]\n",
    "            # gys = [output().grad for output in f.outputs] # 弱参照のデータにアクセスするには（）を加える\n",
    "            gxs = f.backward(*gys)\n",
    "            if not isinstance(gxs, tuple):\n",
    "                gxs = (gxs, )\n",
    "\n",
    "            for x, gx in zip(f.inputs, gxs):\n",
    "                if x.grad is None:\n",
    "                    x.grad = gx\n",
    "                else:\n",
    "                    x.grad = x.grad + gx\n",
    "\n",
    "                if x.creator is not None:\n",
    "                    add_func(x.creator)\n",
    "\n",
    "            if not retain_grad:\n",
    "                for y in f.outputs:\n",
    "                    y.grad = None\n",
    "                    # y().grad = None # f.outputsの要素は弱参照データアクセスのため()を加える\n",
    "\n",
    "    def cleargrad(self):\n",
    "        self.grad = None\n",
    "\n",
    "    # メソッドをインスタンス変数(属性)としてアクセスできる(メソッドを呼ぶ時()が必要なくなる＝まるでクラスインスタンスの属性を参照する感じになる)\n",
    "    @property\n",
    "    def shape(self):\n",
    "        return self.data.shape\n",
    "\n",
    "    @property\n",
    "    def ndim(self):\n",
    "        return self.data.ndim\n",
    "\n",
    "    @property\n",
    "    def size(self):\n",
    "        return self.data.size\n",
    "\n",
    "    @property\n",
    "    def dtype(self):\n",
    "        return self.data\n",
    "\n",
    "    # len() をクラス(Variable)インスタンスに対して呼び出されたときにどのように振る舞うかを定義\n",
    "    def __len__(self):\n",
    "        return len(self.data) # Variableクラス内データの要素数を返す\n",
    "\n",
    "    # print()をクラス(Variable)インスタンスに対して呼び出されたときにどのように振る舞うかを定義\n",
    "    def __repr__(self):\n",
    "        if self.data is None:\n",
    "            return 'variable(None)'\n",
    "        # データを文字列に変換、かつ改行文字を改行文字+9文字分の空白に置き換えてpに格納\n",
    "        p = str(self.data).replace('\\n', '\\n' + ' ' * 9) # 'variable('の９文字分ズラして整形（自動で１文字インデントが入る）\n",
    "        return 'variable(' + p + ')'"
   ]
  },
  {
   "cell_type": "code",
   "execution_count": 45,
   "metadata": {},
   "outputs": [
    {
     "name": "stdout",
     "output_type": "stream",
     "text": [
      "(3, 3)\n",
      "2\n",
      "9\n",
      "[[1 2 3]\n",
      " [4 5 6]\n",
      " [7 8 9]]\n",
      "3\n",
      "variable([[1 2 3]\n",
      "          [4 5 6]\n",
      "          [7 8 9]])\n"
     ]
    }
   ],
   "source": [
    "x = Variable(np.array([[1,2,3], [4,5,6], [7,8,9]]))\n",
    "print(x.shape) # x.data.shapeではなくx.shapeでアクセスできる＝Variableをdataみたいに扱える(いちいち.dataまで書かなくて良くなる)\n",
    "print(x.ndim)\n",
    "print(x.size)\n",
    "print(x.dtype)\n",
    "\n",
    "print(len(x)) # len(data.x)と書かず直接Variableクラスからアクセスできる\n",
    "\n",
    "print(x) # print(data.x)と書かず直接Variableクラスからアクセスできる"
   ]
  },
  {
   "cell_type": "markdown",
   "metadata": {},
   "source": [
    "step20: 演算子のオーバーロード(1)"
   ]
  },
  {
   "cell_type": "markdown",
   "metadata": {},
   "source": [
    "20.1 Mulクラスの実装"
   ]
  },
  {
   "cell_type": "code",
   "execution_count": 46,
   "metadata": {},
   "outputs": [],
   "source": [
    "class Function:\n",
    "    def __call__(self, *inputs):\n",
    "        xs = [x.data for x in inputs]\n",
    "        ys = self.forward(*xs)\n",
    "        if not isinstance(ys, tuple):\n",
    "            ys = (ys,)\n",
    "        outputs = [Variable(as_array(y)) for y in ys]\n",
    "\n",
    "        if Config.enable_backprop: # 設定がオンなら逆伝播のために世代設定、親と子の関連付け、メンバ変数に入力と出力をの保持を行う\n",
    "            self.generation = max([x.generation for x in inputs])\n",
    "\n",
    "            for output in outputs:\n",
    "                output.set_creator(self)\n",
    "            self.inputs = inputs\n",
    "            self.outputs = outputs # 循環参照を引き起こす（親から子、子から親が参照し合っている）# Jupyterではこれでやる\n",
    "            # self.outputs = [weakref.ref(output) for output in outputs] # 親から子に対して、参照カウントを増やさずに参照（弱参照）# Jupyterではエラーになるからpythonファイルで実行\n",
    "        return outputs if len(outputs) > 1 else outputs[0]\n",
    "\n",
    "    def forward(self, xs):\n",
    "        raise NotImplementedError()\n",
    "\n",
    "    def backward(self, gys):\n",
    "        raise NotImplementedError()"
   ]
  },
  {
   "cell_type": "code",
   "execution_count": 47,
   "metadata": {},
   "outputs": [],
   "source": [
    "class Mul(Function):\n",
    "    def forward(self, x0, x1):\n",
    "        y = x0 * x1\n",
    "        return y\n",
    "\n",
    "    def backward(self, gy):\n",
    "        x0, x1 = self.inputs[0].data, self.inputs[1].data\n",
    "        return gy * x1, gy * x0"
   ]
  },
  {
   "cell_type": "code",
   "execution_count": 48,
   "metadata": {},
   "outputs": [],
   "source": [
    "def mul(x0, x1):\n",
    "    return Mul()(x0, x1)"
   ]
  },
  {
   "cell_type": "markdown",
   "metadata": {},
   "source": [
    "20.2 演算子のオーバーロード(+や*を使えるようにするパート１：左校が特殊メソッドを呼んだ場合)"
   ]
  },
  {
   "cell_type": "code",
   "execution_count": 49,
   "metadata": {},
   "outputs": [],
   "source": [
    "class Variable:\n",
    "\n",
    "    def __init__(self, data, name=None):\n",
    "        if data is not None:\n",
    "            if not isinstance(data, np.ndarray):\n",
    "                raise TypeError('{} is not supported'.format(type(data)))\n",
    "\n",
    "        self.data = data\n",
    "        self.name = name\n",
    "        self.grad = None\n",
    "        self.creator = None\n",
    "        self.generation = 0\n",
    "\n",
    "    def set_creator(self, func):\n",
    "        self.creator = func\n",
    "        self.generation = func.generation + 1\n",
    "\n",
    "    def backward(self, retain_grad=False):\n",
    "        if self.grad is None:\n",
    "            self.grad = np.ones_like(self.data)\n",
    "\n",
    "        funcs = []\n",
    "        seen_set = set()\n",
    "\n",
    "        def add_func(f):\n",
    "            if f not in seen_set:\n",
    "                funcs.append(f)\n",
    "                seen_set.add(f)\n",
    "                funcs.sort(key=lambda x: x.generation)\n",
    "\n",
    "        add_func(self.creator)\n",
    "\n",
    "        while funcs:\n",
    "            f = funcs.pop()\n",
    "            gys = [output.grad for output in f.outputs]\n",
    "            # gys = [output().grad for output in f.outputs] # 弱参照のデータにアクセスするには（）を加える\n",
    "            gxs = f.backward(*gys)\n",
    "            if not isinstance(gxs, tuple):\n",
    "                gxs = (gxs, )\n",
    "\n",
    "            for x, gx in zip(f.inputs, gxs):\n",
    "                if x.grad is None:\n",
    "                    x.grad = gx\n",
    "                else:\n",
    "                    x.grad = x.grad + gx\n",
    "\n",
    "                if x.creator is not None:\n",
    "                    add_func(x.creator)\n",
    "\n",
    "            if not retain_grad:\n",
    "                for y in f.outputs:\n",
    "                    y.grad = None\n",
    "                    # y().grad = None # f.outputsの要素は弱参照データアクセスのため()を加える\n",
    "\n",
    "    def cleargrad(self):\n",
    "        self.grad = None\n",
    "\n",
    "    @property\n",
    "    def shape(self):\n",
    "        return self.data.shape\n",
    "\n",
    "    @property\n",
    "    def ndim(self):\n",
    "        return self.data.ndim\n",
    "\n",
    "    @property\n",
    "    def size(self):\n",
    "        return self.data.size\n",
    "\n",
    "    @property\n",
    "    def dtype(self):\n",
    "        return self.data\n",
    "\n",
    "    def __len__(self):\n",
    "        return len(self.data)\n",
    "\n",
    "    def __repr__(self):\n",
    "        if self.data is None:\n",
    "            return 'variable(None)'\n",
    "        p = str(self.data).replace('\\n', '\\n' + ' ' * 9)\n",
    "        return 'variable(' + p + ')'\n",
    "\n",
    "    # ＊が左項クラスの特殊メソッドを呼ぶ（__mul__が定義されていれば）\n",
    "    def __mul__(self, other): # a*bの場合、a(*の左)がself, b(*の右が)がotherとして引数に渡される\n",
    "        return mul(self, other) # mul関数を呼んで計算\n",
    "\n",
    "    # +が左項クラスの特殊メソッドを呼ぶ（__add__が定義されていれば）\n",
    "    def __add__(self, other): # a+bの場合、a(+の左)がself, b(+の右が)がotherとして引数に渡される\n",
    "        return add(self, other) # add関数を呼んで計算\n",
    "\n",
    "    # 以下のように書いても同じ\n",
    "    # Variable.__mul__ = mul # *に対する振る舞いを関数mul()にする\n",
    "    # Variable.__add__ = add # +に対する振る舞いを関数add()にする"
   ]
  },
  {
   "cell_type": "code",
   "execution_count": 50,
   "metadata": {},
   "outputs": [
    {
     "name": "stdout",
     "output_type": "stream",
     "text": [
      "variable(7.0)\n",
      "2.0\n",
      "3.0\n",
      "1.0\n"
     ]
    }
   ],
   "source": [
    "a = Variable(np.array(3.0))\n",
    "b = Variable(np.array(2.0))\n",
    "c = Variable(np.array(1.0))\n",
    "\n",
    "y = a * b + c\n",
    "y.backward()\n",
    "\n",
    "print(y)\n",
    "print(a.grad)\n",
    "print(b.grad)\n",
    "print(c.grad)"
   ]
  },
  {
   "cell_type": "markdown",
   "metadata": {},
   "source": [
    "step21: 演算子のオーバーロード(2)"
   ]
  },
  {
   "cell_type": "markdown",
   "metadata": {},
   "source": [
    "21.1 ndarrayをそのまま計算に使えるようにする(関数内で自動でndarrayをVariableインスタンスのデータに格納させる)"
   ]
  },
  {
   "cell_type": "code",
   "execution_count": 51,
   "metadata": {},
   "outputs": [],
   "source": [
    "def as_variable(obj):\n",
    "    if isinstance(obj, Variable):\n",
    "        return obj\n",
    "    return Variable(obj)"
   ]
  },
  {
   "cell_type": "code",
   "execution_count": 52,
   "metadata": {},
   "outputs": [],
   "source": [
    "class Function:\n",
    "    def __call__(self, *inputs):\n",
    "        inputs = [as_variable(x) for x in inputs] # ndarrayを直接関数に入力してもVariableインスタンスに変換する\n",
    "        xs = [x.data for x in inputs]\n",
    "        ys = self.forward(*xs)\n",
    "        if not isinstance(ys, tuple):\n",
    "            ys = (ys,)\n",
    "        outputs = [Variable(as_array(y)) for y in ys]\n",
    "\n",
    "        if Config.enable_backprop:\n",
    "            self.generation = max([x.generation for x in inputs])\n",
    "\n",
    "            for output in outputs:\n",
    "                output.set_creator(self)\n",
    "            self.inputs = inputs\n",
    "            self.outputs = outputs # 循環参照を引き起こす（親から子、子から親が参照し合っている）# Jupyterではこれでやる\n",
    "            # self.outputs = [weakref.ref(output) for output in outputs] # 親から子に対して、参照カウントを増やさずに参照（弱参照）# Jupyterではエラーになるからpythonファイルで実行\n",
    "        return outputs if len(outputs) > 1 else outputs[0]\n",
    "\n",
    "    def forward(self, xs):\n",
    "        raise NotImplementedError()\n",
    "\n",
    "    def backward(self, gys):\n",
    "        raise NotImplementedError()"
   ]
  },
  {
   "cell_type": "code",
   "execution_count": 53,
   "metadata": {},
   "outputs": [],
   "source": [
    "class Mul(Function):\n",
    "    def forward(self, x0, x1):\n",
    "        y = x0 * x1\n",
    "        return y\n",
    "\n",
    "    def backward(self, gy):\n",
    "        x0, x1 = self.inputs[0].data, self.inputs[1].data\n",
    "        return gy * x1, gy * x0"
   ]
  },
  {
   "cell_type": "code",
   "execution_count": 54,
   "metadata": {},
   "outputs": [],
   "source": [
    "class Add(Function):\n",
    "\n",
    "    def forward(self, x0, x1):\n",
    "        y = x0 + x1\n",
    "        return y\n",
    "\n",
    "    def backward(self, gy):\n",
    "        return gy, gy # Addはそのまま流すから出力の微分gy(np.array)を受け取った場合, np.arrayの型のままである（スカラ値を受け取ればスカラ値をそのまま流す）"
   ]
  },
  {
   "cell_type": "code",
   "execution_count": 55,
   "metadata": {},
   "outputs": [
    {
     "name": "stdout",
     "output_type": "stream",
     "text": [
      "variable(5.0)\n"
     ]
    }
   ],
   "source": [
    "x = Variable(np.array(2.0))\n",
    "# +がVariableインスタンスに作用してadd関数が呼ばれ+の左をself,右をotherとして入力される\n",
    "y = x + np.array(3.0) # 関数内でndarrayをVariableインスタンスに変換してから計算される\n",
    "print(y)"
   ]
  },
  {
   "cell_type": "markdown",
   "metadata": {},
   "source": [
    "21.2, 21.3 floatやintと一緒に使えるようにする(+や*を使えるようにするパート2：右項が特殊メソッドを呼んだ場合)"
   ]
  },
  {
   "cell_type": "code",
   "execution_count": 56,
   "metadata": {},
   "outputs": [],
   "source": [
    "class Variable:\n",
    "\n",
    "    def __init__(self, data, name=None):\n",
    "        if data is not None:\n",
    "            if not isinstance(data, np.ndarray):\n",
    "                raise TypeError('{} is not supported'.format(type(data)))\n",
    "\n",
    "        self.data = data\n",
    "        self.name = name\n",
    "        self.grad = None\n",
    "        self.creator = None\n",
    "        self.generation = 0\n",
    "\n",
    "    def set_creator(self, func):\n",
    "        self.creator = func\n",
    "        self.generation = func.generation + 1\n",
    "\n",
    "    def backward(self, retain_grad=False):\n",
    "        if self.grad is None:\n",
    "            self.grad = np.ones_like(self.data)\n",
    "\n",
    "        funcs = []\n",
    "        seen_set = set()\n",
    "\n",
    "        def add_func(f):\n",
    "            if f not in seen_set:\n",
    "                funcs.append(f)\n",
    "                seen_set.add(f)\n",
    "                funcs.sort(key=lambda x: x.generation)\n",
    "\n",
    "        add_func(self.creator)\n",
    "\n",
    "        while funcs:\n",
    "            f = funcs.pop()\n",
    "            gys = [output.grad for output in f.outputs]\n",
    "            # gys = [output().grad for output in f.outputs] # 弱参照のデータにアクセスするには（）を加える\n",
    "            gxs = f.backward(*gys)\n",
    "            if not isinstance(gxs, tuple):\n",
    "                gxs = (gxs, )\n",
    "\n",
    "            for x, gx in zip(f.inputs, gxs):\n",
    "                if x.grad is None:\n",
    "                    x.grad = gx\n",
    "                else:\n",
    "                    x.grad = x.grad + gx\n",
    "\n",
    "                if x.creator is not None:\n",
    "                    add_func(x.creator)\n",
    "\n",
    "            if not retain_grad:\n",
    "                for y in f.outputs:\n",
    "                    y.grad = None\n",
    "                    # y().grad = None # f.outputsの要素は弱参照データアクセスのため()を加える\n",
    "\n",
    "    def cleargrad(self):\n",
    "        self.grad = None\n",
    "\n",
    "    @property\n",
    "    def shape(self):\n",
    "        return self.data.shape\n",
    "\n",
    "    @property\n",
    "    def ndim(self):\n",
    "        return self.data.ndim\n",
    "\n",
    "    @property\n",
    "    def size(self):\n",
    "        return self.data.size\n",
    "\n",
    "    @property\n",
    "    def dtype(self):\n",
    "        return self.data\n",
    "\n",
    "    def __len__(self):\n",
    "        return len(self.data)\n",
    "\n",
    "    def __repr__(self):\n",
    "        if self.data is None:\n",
    "            return 'variable(None)'\n",
    "        p = str(self.data).replace('\\n', '\\n' + ' ' * 9)\n",
    "        return 'variable(' + p + ')'\n",
    "\n",
    "    def __mul__(self, other):\n",
    "        return mul(self, other)\n",
    "\n",
    "    def __add__(self, other):\n",
    "        return add(self, other)\n",
    "\n",
    "    # ＊の左項クラスの特殊メソッドが定義されていなかった場合、右項の特殊メソッドが呼ばれる\n",
    "    def __rmul__(self, other): # *の右項がself, 左項がotherが引数として渡される\n",
    "        return mul(self, other) # 関数mul()の処理\n",
    "\n",
    "    # ＊の左項クラスの特殊メソッドが定義されていなかった場合、右項の特殊メソッドが呼ばれる\n",
    "    def __radd__(self, other):  # *の右項がself, 左項がotherが引数として渡される\n",
    "        return add(self, other) # 関数add()の処理\n",
    "\n",
    "    # 以下のように書いても同じ\n",
    "    # Variable.__rmul__ = mul # *に対する振る舞いを関数mul()にする\n",
    "    # Variable.__radd__ = add # +に対する振る舞いを関数add()にする"
   ]
  },
  {
   "cell_type": "code",
   "execution_count": 57,
   "metadata": {},
   "outputs": [],
   "source": [
    "# Variableクラス*floatクラスなら__mul__が呼ばれ、そのままの順番で関数に渡されて、floatクラスがndarrayに変換される\n",
    "# floatクラス*Variableクラスなら__rmul__が呼ばれ、順番を逆にして関数に渡されて、結局同じくfloatクラスがndarrayに変換される\n",
    "def mul(x0, x1): # したがって、other(x1)には必ず非Variableクラスが来る(特殊メソッドを呼んだクラスがself,もう一方がotherになる)\n",
    "    x1 = as_array(x1) # floatがndarray変換\n",
    "    return Mul()(x0, x1) # Functionクラス内でndarrayがVariabelインスタンスのデータに格納される"
   ]
  },
  {
   "cell_type": "code",
   "execution_count": 58,
   "metadata": {},
   "outputs": [],
   "source": [
    "# Variableクラス+floatクラスなら__add__が呼ばれ、そのままの順番で関数に渡されて、floatクラスがndarrayに変換される\n",
    "# floatクラス+Variableクラスなら__radd__が呼ばれ、順番を逆にして関数に渡されて、結局同じくfloatクラスがndarrayに変換される\n",
    "def add(x0, x1): # したがって、other(x1)には必ず非Variableクラスが来る(特殊メソッドを呼んだクラスがself,もう一方がotherになる)\n",
    "    x1 = as_array(x1) # floatがndarray変換\n",
    "    return Add()(x0, x1) # Functionクラス内でndarrayがVariabelインスタンスのデータに格納される"
   ]
  },
  {
   "cell_type": "code",
   "execution_count": 59,
   "metadata": {},
   "outputs": [
    {
     "name": "stdout",
     "output_type": "stream",
     "text": [
      "variable(7.0)\n"
     ]
    }
   ],
   "source": [
    "x = Variable(np.array(2.0))\n",
    "y = 3.0 * x + 1.0\n",
    "print(y)"
   ]
  },
  {
   "cell_type": "markdown",
   "metadata": {},
   "source": [
    "21.4 左項がndarrayである場合"
   ]
  },
  {
   "cell_type": "code",
   "execution_count": 60,
   "metadata": {},
   "outputs": [
    {
     "name": "stdout",
     "output_type": "stream",
     "text": [
      "variable([4.])\n",
      "[variable(4.0)]\n"
     ]
    }
   ],
   "source": [
    "x = Variable(np.array(2.0))\n",
    "y1 = x + np.array([2.0])\n",
    "y2 = np.array([2.0]) + x # ndarrayの特殊メソッド(__add__)が呼ばれて出力形式が異なってしまう\n",
    "print(y1)\n",
    "print(y2)"
   ]
  },
  {
   "cell_type": "code",
   "execution_count": 61,
   "metadata": {},
   "outputs": [],
   "source": [
    "class Variable:\n",
    "    __array_priority__ = 200 # 特殊メソッドを呼び出す優先度（左項にndarrayインスタンスがあってもVariableインスタンスの特殊メソッドが優先される）\n",
    "\n",
    "    def __init__(self, data, name=None):\n",
    "        if data is not None:\n",
    "            if not isinstance(data, np.ndarray):\n",
    "                raise TypeError('{} is not supported'.format(type(data)))\n",
    "\n",
    "        self.data = data\n",
    "        self.name = name\n",
    "        self.grad = None\n",
    "        self.creator = None\n",
    "        self.generation = 0\n",
    "\n",
    "    def set_creator(self, func):\n",
    "        self.creator = func\n",
    "        self.generation = func.generation + 1\n",
    "\n",
    "    def backward(self, retain_grad=False):\n",
    "        if self.grad is None:\n",
    "            self.grad = np.ones_like(self.data)\n",
    "\n",
    "        funcs = []\n",
    "        seen_set = set()\n",
    "\n",
    "        def add_func(f):\n",
    "            if f not in seen_set:\n",
    "                funcs.append(f)\n",
    "                seen_set.add(f)\n",
    "                funcs.sort(key=lambda x: x.generation)\n",
    "\n",
    "        add_func(self.creator)\n",
    "\n",
    "        while funcs:\n",
    "            f = funcs.pop()\n",
    "            gys = [output.grad for output in f.outputs]\n",
    "            # gys = [output().grad for output in f.outputs] # 弱参照のデータにアクセスするには（）を加える\n",
    "            gxs = f.backward(*gys)\n",
    "            if not isinstance(gxs, tuple):\n",
    "                gxs = (gxs, )\n",
    "\n",
    "            for x, gx in zip(f.inputs, gxs):\n",
    "                if x.grad is None:\n",
    "                    x.grad = gx\n",
    "                else:\n",
    "                    x.grad = x.grad + gx\n",
    "\n",
    "                if x.creator is not None:\n",
    "                    add_func(x.creator)\n",
    "\n",
    "            if not retain_grad:\n",
    "                for y in f.outputs:\n",
    "                    y.grad = None\n",
    "                    # y().grad = None # f.outputsの要素は弱参照データアクセスのため()を加える\n",
    "\n",
    "    def cleargrad(self):\n",
    "        self.grad = None\n",
    "\n",
    "    @property\n",
    "    def shape(self):\n",
    "        return self.data.shape\n",
    "\n",
    "    @property\n",
    "    def ndim(self):\n",
    "        return self.data.ndim\n",
    "\n",
    "    @property\n",
    "    def size(self):\n",
    "        return self.data.size\n",
    "\n",
    "    @property\n",
    "    def dtype(self):\n",
    "        return self.data\n",
    "\n",
    "    def __len__(self):\n",
    "        return len(self.data)\n",
    "\n",
    "    def __repr__(self):\n",
    "        if self.data is None:\n",
    "            return 'variable(None)'\n",
    "        p = str(self.data).replace('\\n', '\\n' + ' ' * 9)\n",
    "        return 'variable(' + p + ')'\n",
    "\n",
    "    def __mul__(self, other):\n",
    "        return mul(self, other)\n",
    "\n",
    "    def __add__(self, other):\n",
    "        return add(self, other)\n",
    "\n",
    "    def __rmul__(self, other):\n",
    "        return mul(self, other)\n",
    "\n",
    "    def __radd__(self, other):\n",
    "        return add(self, other)"
   ]
  },
  {
   "cell_type": "code",
   "execution_count": 62,
   "metadata": {},
   "outputs": [
    {
     "name": "stdout",
     "output_type": "stream",
     "text": [
      "variable([4.])\n",
      "variable([4.])\n"
     ]
    }
   ],
   "source": [
    "x = Variable(np.array(2.0))\n",
    "y1 = x + np.array([2.0])\n",
    "y2 = np.array([2.0]) + x # Variableインスタンスの特殊メソッドが優先され、出力形式が統一される\n",
    "print(y1)\n",
    "print(y2)"
   ]
  },
  {
   "cell_type": "markdown",
   "metadata": {},
   "source": [
    "step22: 演算子のオーバーロード（３）"
   ]
  },
  {
   "cell_type": "markdown",
   "metadata": {},
   "source": [
    "22.1 負数"
   ]
  },
  {
   "cell_type": "code",
   "execution_count": 63,
   "metadata": {},
   "outputs": [],
   "source": [
    "class  Neg(Function):\n",
    "    def forward(self, x):\n",
    "        return-x\n",
    "\n",
    "    def backward(self, gy):\n",
    "        return -gy"
   ]
  },
  {
   "cell_type": "code",
   "execution_count": 64,
   "metadata": {},
   "outputs": [],
   "source": [
    "def neg(x):\n",
    "    return Neg()(x)"
   ]
  },
  {
   "cell_type": "markdown",
   "metadata": {},
   "source": [
    "22.2 引き算"
   ]
  },
  {
   "cell_type": "code",
   "execution_count": 65,
   "metadata": {},
   "outputs": [],
   "source": [
    "class Sub(Function):\n",
    "    def forward(self, x0, x1):\n",
    "        y = x0 - x1\n",
    "        return y\n",
    "\n",
    "    def backward(self, gy):\n",
    "        return gy, -gy"
   ]
  },
  {
   "cell_type": "code",
   "execution_count": 66,
   "metadata": {},
   "outputs": [],
   "source": [
    "# 右項がスカラー値の場合,そのままx1に渡されndarrayに変換される\n",
    "def sub(x0, x1):\n",
    "    x1 = as_array(x1)\n",
    "    return Sub()(x0, x1)"
   ]
  },
  {
   "cell_type": "code",
   "execution_count": 67,
   "metadata": {},
   "outputs": [],
   "source": [
    "# 左項がスカラー値の場合,左項がother(x1)に渡されndarrayに変換されるが、左右の項が逆になってしまう（そのまま計算すると結果が異なってしまう）\n",
    "def rsub(x0, x1):\n",
    "    x1 = as_array(x1)\n",
    "    return Sub()(x1, x0) # 元の項の並びに戻して引き算を行う（足し算や掛け算はその必要がない）"
   ]
  },
  {
   "cell_type": "markdown",
   "metadata": {},
   "source": [
    "22.3 割り算"
   ]
  },
  {
   "cell_type": "code",
   "execution_count": 68,
   "metadata": {},
   "outputs": [],
   "source": [
    "class Div(Function):\n",
    "    def forward(self, x0, x1):\n",
    "        y = x0 / x1\n",
    "        return y\n",
    "\n",
    "    def backward(self, gy):\n",
    "        x0, x1 = self.inputs[0].data, self.inputs[1].data\n",
    "        gx0 = gy /x1\n",
    "        gx1 = gy * (-x0 / x1 ** 2)\n",
    "        return gx0, gx1"
   ]
  },
  {
   "cell_type": "code",
   "execution_count": 69,
   "metadata": {},
   "outputs": [],
   "source": [
    "# 右項がスカラー値の場合,そのままx1に渡されndarrayに変換される\n",
    "def div(x0, x1):\n",
    "    x1 = as_array(x1)\n",
    "    return Div()(x0, x1)"
   ]
  },
  {
   "cell_type": "code",
   "execution_count": 70,
   "metadata": {},
   "outputs": [],
   "source": [
    "# 左項がスカラー値の場合,左項がother(x1)に渡されndarrayに変換されるが、左右の項が逆になってしまう（そのまま計算すると結果が異なってしまう）\n",
    "def rdiv(x0, x1):\n",
    "    x1 = as_array(x1)\n",
    "    return Div()(x1,x0) # 元の項の並びに戻して割り算を行う（足し算や掛け算はその必要がない）"
   ]
  },
  {
   "cell_type": "markdown",
   "metadata": {},
   "source": [
    "22.4 累乗"
   ]
  },
  {
   "cell_type": "code",
   "execution_count": 71,
   "metadata": {},
   "outputs": [],
   "source": [
    "class Pow(Function):\n",
    "    def __init__(self, c):\n",
    "        self.c = c\n",
    "\n",
    "    def forward(self, x):\n",
    "        y = x ** self.c\n",
    "        return y\n",
    "\n",
    "    def backward(self, gy):\n",
    "        x = self.inputs[0].data\n",
    "        c = self.c\n",
    "        gx = c * x ** (c - 1) * gy\n",
    "        return gx"
   ]
  },
  {
   "cell_type": "code",
   "execution_count": 72,
   "metadata": {},
   "outputs": [],
   "source": [
    "def pow(x, c):\n",
    "    return Pow(c)(x)"
   ]
  },
  {
   "cell_type": "markdown",
   "metadata": {},
   "source": [
    "22.5 自由な四則演算"
   ]
  },
  {
   "cell_type": "code",
   "execution_count": 73,
   "metadata": {},
   "outputs": [],
   "source": [
    "class Variable:\n",
    "    __array_priority__ = 200\n",
    "\n",
    "    def __init__(self, data, name=None):\n",
    "        if data is not None:\n",
    "            if not isinstance(data, np.ndarray):\n",
    "                raise TypeError('{} is not supported'.format(type(data)))\n",
    "\n",
    "        self.data = data\n",
    "        self.name = name\n",
    "        self.grad = None\n",
    "        self.creator = None\n",
    "        self.generation = 0\n",
    "\n",
    "    def set_creator(self, func):\n",
    "        self.creator = func\n",
    "        self.generation = func.generation + 1\n",
    "\n",
    "    def backward(self, retain_grad=False):\n",
    "        if self.grad is None:\n",
    "            self.grad = np.ones_like(self.data)\n",
    "\n",
    "        funcs = []\n",
    "        seen_set = set()\n",
    "\n",
    "        def add_func(f):\n",
    "            if f not in seen_set:\n",
    "                funcs.append(f)\n",
    "                seen_set.add(f)\n",
    "                funcs.sort(key=lambda x: x.generation)\n",
    "\n",
    "        add_func(self.creator)\n",
    "\n",
    "        while funcs:\n",
    "            f = funcs.pop()\n",
    "            gys = [output.grad for output in f.outputs]\n",
    "            # gys = [output().grad for output in f.outputs] # 弱参照のデータにアクセスするには（）を加える\n",
    "            gxs = f.backward(*gys)\n",
    "            if not isinstance(gxs, tuple):\n",
    "                gxs = (gxs, )\n",
    "\n",
    "            for x, gx in zip(f.inputs, gxs):\n",
    "                if x.grad is None:\n",
    "                    x.grad = gx\n",
    "                else:\n",
    "                    x.grad = x.grad + gx\n",
    "\n",
    "                if x.creator is not None:\n",
    "                    add_func(x.creator)\n",
    "\n",
    "            if not retain_grad:\n",
    "                for y in f.outputs:\n",
    "                    y.grad = None\n",
    "                    # y().grad = None # f.outputsの要素は弱参照データアクセスのため()を加える\n",
    "\n",
    "    def cleargrad(self):\n",
    "        self.grad = None\n",
    "\n",
    "    @property\n",
    "    def shape(self):\n",
    "        return self.data.shape\n",
    "\n",
    "    @property\n",
    "    def ndim(self):\n",
    "        return self.data.ndim\n",
    "\n",
    "    @property\n",
    "    def size(self):\n",
    "        return self.data.size\n",
    "\n",
    "    @property\n",
    "    def dtype(self):\n",
    "        return self.data\n",
    "\n",
    "    def __len__(self):\n",
    "        return len(self.data)\n",
    "\n",
    "    def __repr__(self):\n",
    "        if self.data is None:\n",
    "            return 'variable(None)'\n",
    "        p = str(self.data).replace('\\n', '\\n' + ' ' * 9)\n",
    "        return 'variable(' + p + ')'\n",
    "\n",
    "    def __mul__(self, other):\n",
    "        return mul(self, other)\n",
    "\n",
    "    def __add__(self, other):\n",
    "        return add(self, other)\n",
    "\n",
    "    def __rmul__(self, other):\n",
    "        return mul(self, other)\n",
    "\n",
    "    def __radd__(self, other):\n",
    "        return add(self, other)\n",
    "\n",
    "    # 負数\n",
    "    def __neg__(self):\n",
    "        return neg(self)\n",
    "\n",
    "    # 引き算\n",
    "    def __sub__(self, other):\n",
    "        return sub(self, other)\n",
    "\n",
    "    def __rsub__(self, other):\n",
    "        return sub(self, other)\n",
    "\n",
    "    # 割り算\n",
    "    def __truediv__(self, other):\n",
    "        return div(self, other)\n",
    "\n",
    "    def __rtruediv__(self, other):\n",
    "        return rdiv(self, other)\n",
    "\n",
    "    # 累乗\n",
    "    def __pow__(self, other):\n",
    "        return pow(self, other)"
   ]
  },
  {
   "cell_type": "code",
   "execution_count": 74,
   "metadata": {},
   "outputs": [
    {
     "name": "stdout",
     "output_type": "stream",
     "text": [
      "variable(-2.0)\n",
      "variable(0.0)\n",
      "variable(0.0)\n",
      "variable(1.0)\n",
      "variable(1.0)\n",
      "variable(8.0)\n"
     ]
    }
   ],
   "source": [
    "x = Variable(np.array(2.0))\n",
    "y = -x\n",
    "print(y)\n",
    "\n",
    "y1 = x - 2.0\n",
    "y2 = 2.0 -x\n",
    "print(y1)\n",
    "print(y2)\n",
    "\n",
    "y3 = x / 2.0\n",
    "y4 = 2.0 / x\n",
    "print(y3)\n",
    "print(y4)\n",
    "\n",
    "y5 = x**3\n",
    "print(y5)"
   ]
  },
  {
   "cell_type": "markdown",
   "metadata": {},
   "source": [
    "step23: パッケージとしてまとめる"
   ]
  },
  {
   "cell_type": "markdown",
   "metadata": {},
   "source": [
    "23.1, 23.2, 23.3　step22まで実装したコア機能を１つのファイルにまとめてdezeroディレクトリ（フォルダ）に収納（パッケージ化）"
   ]
  },
  {
   "cell_type": "code",
   "execution_count": 75,
   "metadata": {},
   "outputs": [
    {
     "name": "stdout",
     "output_type": "stream",
     "text": [
      "variable(1.0)\n"
     ]
    }
   ],
   "source": [
    "# パッケージからVariableクラスを呼び出す（もういちいちVariableクラスを定義しなくていい）\n",
    "import numpy as np\n",
    "import sys\n",
    "sys.path.append(r'C:\\Users\\jiwon\\OneDrive\\Desktop\\DL3')\n",
    "from dezero.core_simple import Variable\n",
    "\n",
    "x =Variable(np.array(1.0))\n",
    "print(x)"
   ]
  },
  {
   "cell_type": "markdown",
   "metadata": {},
   "source": [
    "23.4 __init__.pyをdezeroに搭載することで、dezeroを呼び出した沖core_simpleを自動で呼び出す"
   ]
  },
  {
   "cell_type": "code",
   "execution_count": 76,
   "metadata": {},
   "outputs": [
    {
     "name": "stdout",
     "output_type": "stream",
     "text": [
      "variable(1.0)\n"
     ]
    }
   ],
   "source": [
    "import numpy as np\n",
    "import sys\n",
    "sys.path.append(r'C:\\Users\\jiwon\\OneDrive\\Desktop\\DL3')\n",
    "from dezero import Variable #dezero.core_simpleまで書かなくてもその機能が呼び出されう\n",
    "\n",
    "x =Variable(np.array(1.0))\n",
    "print(x)"
   ]
  },
  {
   "cell_type": "markdown",
   "metadata": {},
   "source": [
    "23.5 dezeroのインポート（環境によって親ディレクトリをパスに追加）"
   ]
  },
  {
   "cell_type": "code",
   "execution_count": 77,
   "metadata": {},
   "outputs": [],
   "source": [
    "# このスクリプトがpythonファイル上のものか(pythonファイルならグローバル名前空間に__file__が定義されている)か確認\n",
    "if '__file__' in globals(): # Jupyter Notebookやインタラクティブシェルで実行するとFalseになる\n",
    "    import os, sys\n",
    "    sys.path.append(os.path.join(os.path.dirname(__file__), '..')) # 実行ファイルのディレクトリに対する親ディレクトリ(ここではDL3)をパスに追加\n",
    "    # sys.path.append(r'C:\\Users\\jiwon\\OneDrive\\Desktop\\DL3') と実質同じ"
   ]
  },
  {
   "cell_type": "markdown",
   "metadata": {},
   "source": [
    "step24 複雑な関数の微分"
   ]
  },
  {
   "cell_type": "markdown",
   "metadata": {},
   "source": [
    "24.1 Sphere関数"
   ]
  },
  {
   "cell_type": "code",
   "execution_count": 78,
   "metadata": {},
   "outputs": [],
   "source": [
    "def sphere(x, y):\n",
    "    z = x ** 2 + y ** 2\n",
    "    return z"
   ]
  },
  {
   "cell_type": "code",
   "execution_count": 79,
   "metadata": {},
   "outputs": [
    {
     "name": "stdout",
     "output_type": "stream",
     "text": [
      "2.0 2.0\n"
     ]
    }
   ],
   "source": [
    "import numpy as np\n",
    "import sys\n",
    "sys.path.append(r'C:\\Users\\jiwon\\OneDrive\\Desktop\\DL3')\n",
    "from dezero import Variable\n",
    "\n",
    "x = Variable(np.array(1.0))\n",
    "y = Variable(np.array(1.0))\n",
    "z = sphere(x, y)\n",
    "z.backward()\n",
    "print(x.grad, y.grad)"
   ]
  },
  {
   "cell_type": "markdown",
   "metadata": {},
   "source": [
    "24.2 matyas関数"
   ]
  },
  {
   "cell_type": "code",
   "execution_count": 80,
   "metadata": {},
   "outputs": [],
   "source": [
    "def matyas(x, y):\n",
    "    z = 0.26 * (x ** 2 + y ** 2) - 0.48 * x * y\n",
    "    return z"
   ]
  },
  {
   "cell_type": "code",
   "execution_count": 81,
   "metadata": {},
   "outputs": [
    {
     "name": "stdout",
     "output_type": "stream",
     "text": [
      "0.040000000000000036 0.040000000000000036\n"
     ]
    }
   ],
   "source": [
    "x = Variable(np.array(1.0))\n",
    "y = Variable(np.array(1.0))\n",
    "z = matyas(x, y)\n",
    "z.backward()\n",
    "print(x.grad, y.grad)"
   ]
  },
  {
   "cell_type": "markdown",
   "metadata": {},
   "source": [
    "24.3 Goldstein-Price関数"
   ]
  },
  {
   "cell_type": "code",
   "execution_count": 82,
   "metadata": {},
   "outputs": [],
   "source": [
    "def goldstein(x, y):\n",
    "    z = (1 + (x + y + 1)**2 * (19 - 14*x + 3*x**2 - 14*y + 6*x*y + 3*y**2)) * \\\n",
    "        (30 + (2*x - 3*y)**2 * (18 - 32*x + 12*x**2 + 48*y - 36*x*y + 27*y**2))\n",
    "    return z"
   ]
  },
  {
   "cell_type": "code",
   "execution_count": 83,
   "metadata": {},
   "outputs": [
    {
     "name": "stdout",
     "output_type": "stream",
     "text": [
      "-5376.0 8064.0\n"
     ]
    }
   ],
   "source": [
    "x = Variable(np.array(1.0))\n",
    "y = Variable(np.array(1.0))\n",
    "z = goldstein(x, y)\n",
    "z.backward()\n",
    "print(x.grad, y.grad)"
   ]
  },
  {
   "cell_type": "code",
   "execution_count": null,
   "metadata": {},
   "outputs": [],
   "source": []
  }
 ],
 "metadata": {
  "kernelspec": {
   "display_name": "Python 3",
   "language": "python",
   "name": "python3"
  },
  "language_info": {
   "codemirror_mode": {
    "name": "ipython",
    "version": 3
   },
   "file_extension": ".py",
   "mimetype": "text/x-python",
   "name": "python",
   "nbconvert_exporter": "python",
   "pygments_lexer": "ipython3",
   "version": "3.12.3"
  }
 },
 "nbformat": 4,
 "nbformat_minor": 2
}
