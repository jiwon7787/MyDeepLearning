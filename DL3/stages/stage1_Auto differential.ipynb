{
 "cells": [
  {
   "cell_type": "code",
   "execution_count": 1,
   "metadata": {},
   "outputs": [],
   "source": [
    "import numpy as np"
   ]
  },
  {
   "cell_type": "markdown",
   "metadata": {},
   "source": [
    "step1: 変数"
   ]
  },
  {
   "cell_type": "markdown",
   "metadata": {},
   "source": [
    "1.2 Variableクラスの実装"
   ]
  },
  {
   "cell_type": "code",
   "execution_count": 2,
   "metadata": {},
   "outputs": [],
   "source": [
    "class Variable:\n",
    "    def __init__(self, data):\n",
    "        self.data = data"
   ]
  },
  {
   "cell_type": "code",
   "execution_count": 3,
   "metadata": {},
   "outputs": [
    {
     "name": "stdout",
     "output_type": "stream",
     "text": [
      "1.0\n",
      "2.0\n"
     ]
    }
   ],
   "source": [
    "data = np.array(1.0)\n",
    "x = Variable(data)\n",
    "print(x.data)\n",
    "\n",
    "x.data = 2.0\n",
    "print(x.data)"
   ]
  },
  {
   "cell_type": "markdown",
   "metadata": {},
   "source": [
    "1.3 Numpyの多次元配列"
   ]
  },
  {
   "cell_type": "code",
   "execution_count": 4,
   "metadata": {},
   "outputs": [
    {
     "name": "stdout",
     "output_type": "stream",
     "text": [
      "0\n",
      "1\n",
      "2\n"
     ]
    }
   ],
   "source": [
    "x = np.array(1)\n",
    "print(x.ndim)\n",
    "\n",
    "y = np.array([1, 2, 3])\n",
    "print(y.ndim)\n",
    "\n",
    "z = np.array([[1, 2, 3],\n",
    "              [4, 5, 6]])\n",
    "print(z.ndim)"
   ]
  },
  {
   "cell_type": "markdown",
   "metadata": {},
   "source": [
    "step2: 変数を生み出す関数"
   ]
  },
  {
   "cell_type": "markdown",
   "metadata": {},
   "source": [
    "2.2 Functionクラスの実装"
   ]
  },
  {
   "cell_type": "code",
   "execution_count": 5,
   "metadata": {},
   "outputs": [],
   "source": [
    "class Function:\n",
    "    # f = Function()とした時, f(...)で__call__を呼べる\n",
    "    def __call__(self, input): # Variableインスタンス\n",
    "        x = input.data # Valuableインスタンス内のデータ\n",
    "        y = x ** 2 # xをyに変換\n",
    "        output = Variable(y) # 新しくVariableインスタンス生成しyをデータとして格納\n",
    "        return output # yを格納したインスタンスを返す"
   ]
  },
  {
   "cell_type": "markdown",
   "metadata": {},
   "source": [
    "2.3 Functionクラスを使う"
   ]
  },
  {
   "cell_type": "code",
   "execution_count": 6,
   "metadata": {},
   "outputs": [
    {
     "name": "stdout",
     "output_type": "stream",
     "text": [
      "<class '__main__.Variable'>\n",
      "100\n"
     ]
    }
   ],
   "source": [
    "x = Variable(np.array(10))\n",
    "f = Function()\n",
    "y = f(x)\n",
    "\n",
    "print(type(y))\n",
    "print(y.data)"
   ]
  },
  {
   "cell_type": "code",
   "execution_count": 7,
   "metadata": {},
   "outputs": [],
   "source": [
    "class Function:\n",
    "    # f = Functionとした時, f(...)で__call__を呼べる\n",
    "    def __call__(self, input):\n",
    "        x = input.data\n",
    "        # y = x ** 2の代わり\n",
    "        y = self.forward(x) # 具体的計算は別クラスが搭載するforwardメソットでする\n",
    "        output = Variable(y)\n",
    "        return output\n",
    "\n",
    "    def forward(self, x):\n",
    "        # 他のクラスでFunctionクラスを引き継いでforwardを再定義する\n",
    "        raise NotImplementedError() # Functionインスタンスからforwardを呼ぶと例外が発生"
   ]
  },
  {
   "cell_type": "code",
   "execution_count": 8,
   "metadata": {},
   "outputs": [],
   "source": [
    "class Square(Function): # Functionクラスを引き継ぐ\n",
    "    # forwardを再定義\n",
    "    def forward(self, x):\n",
    "        return x ** 2"
   ]
  },
  {
   "cell_type": "code",
   "execution_count": 9,
   "metadata": {},
   "outputs": [
    {
     "name": "stdout",
     "output_type": "stream",
     "text": [
      "<class '__main__.Variable'>\n",
      "100\n"
     ]
    }
   ],
   "source": [
    "x = Variable(np.array(10))\n",
    "f = Square() # f = Function()\n",
    "y = f(x) # この時点で__call__が呼ばれる(その中にあるforwardも呼ばれて計算が行われる)\n",
    "\n",
    "print(type(y))\n",
    "print(y.data)"
   ]
  },
  {
   "cell_type": "markdown",
   "metadata": {},
   "source": [
    "step3: 関数の連結"
   ]
  },
  {
   "cell_type": "markdown",
   "metadata": {},
   "source": [
    "3.1 Exp関数の実装"
   ]
  },
  {
   "cell_type": "code",
   "execution_count": 10,
   "metadata": {},
   "outputs": [],
   "source": [
    "class Exp(Function):\n",
    "    def forward(self, x):\n",
    "        return np.exp(x)"
   ]
  },
  {
   "cell_type": "markdown",
   "metadata": {},
   "source": [
    "3.2 関数を連結する"
   ]
  },
  {
   "cell_type": "code",
   "execution_count": 11,
   "metadata": {},
   "outputs": [
    {
     "name": "stdout",
     "output_type": "stream",
     "text": [
      "1.648721270700128\n"
     ]
    }
   ],
   "source": [
    "A = Square()\n",
    "B = Exp()\n",
    "C = Square()\n",
    "\n",
    "x = Variable(np.array(0.5))\n",
    "# 入力Variableインスタンスのデータを取り出して計算後、その計算結果を新しいVariableインスタンスのデータに格納、の繰り返し\n",
    "a = A(x)\n",
    "b = B(a)\n",
    "y = C(b)\n",
    "print(y.data)"
   ]
  },
  {
   "cell_type": "markdown",
   "metadata": {},
   "source": [
    "step4: 数値微分"
   ]
  },
  {
   "cell_type": "markdown",
   "metadata": {},
   "source": [
    "4.2 数値微分の実装"
   ]
  },
  {
   "cell_type": "code",
   "execution_count": 12,
   "metadata": {},
   "outputs": [],
   "source": [
    "def numerical_diff(f, x, eps=1e-4): # 扱う関数、Variableインスタンス\n",
    "    x0 = Variable(x.data - eps) # インスタンスのデータに少し変化加えて新しいVariableインスタンスのデータに格納\n",
    "    x1 = Variable(x.data + eps) # 同様\n",
    "    y0 = f(x0) # fのforwardに通して計算され、新しいVariableインスタンスのデータに格納\n",
    "    y1 = f(x1) # 同様\n",
    "    return (y1.data - y0.data) / (2 * eps) # 各インスタンスのデータを呼んで数値微分し返す"
   ]
  },
  {
   "cell_type": "code",
   "execution_count": 13,
   "metadata": {},
   "outputs": [
    {
     "name": "stdout",
     "output_type": "stream",
     "text": [
      "4.000000000004\n"
     ]
    }
   ],
   "source": [
    "f = Square()\n",
    "x = Variable(np.array(2.0))\n",
    "dy = numerical_diff(f, x) # 関数fに対してxにおける数値微分\n",
    "print(dy)"
   ]
  },
  {
   "cell_type": "markdown",
   "metadata": {},
   "source": [
    "4.3 合成関数の数値微分"
   ]
  },
  {
   "cell_type": "code",
   "execution_count": 14,
   "metadata": {},
   "outputs": [
    {
     "name": "stdout",
     "output_type": "stream",
     "text": [
      "3.2974426293330694\n"
     ]
    }
   ],
   "source": [
    "# 連なった関数（複数の関数計算を一つの関数としてまとめる）での数値微分\n",
    "def f(x):\n",
    "    A = Square()\n",
    "    B = Exp()\n",
    "    C = Square()\n",
    "    return C(B(A(x)))\n",
    "\n",
    "x = Variable(np.array(0.5))\n",
    "dx = numerical_diff(f, x)\n",
    "print(dx) # xを0.5から微小な値だけ変化させた時、yの値がその微小な変化のdy倍だけ変化する"
   ]
  },
  {
   "cell_type": "markdown",
   "metadata": {},
   "source": [
    "step5,6: 手動逆伝播"
   ]
  },
  {
   "cell_type": "markdown",
   "metadata": {},
   "source": [
    "6.1 Variableクラスの追加実装"
   ]
  },
  {
   "cell_type": "code",
   "execution_count": 15,
   "metadata": {},
   "outputs": [],
   "source": [
    "class Variable:\n",
    "\n",
    "    def __init__(self, data):\n",
    "        self.data = data\n",
    "        self.grad = None # 逆伝播の勾配ここに格納（変数の数だけ勾配があるから、それぞれの変数に対応する勾配を格納させる）"
   ]
  },
  {
   "cell_type": "markdown",
   "metadata": {},
   "source": [
    "6.2 Functionクラスの追加実装"
   ]
  },
  {
   "cell_type": "code",
   "execution_count": 16,
   "metadata": {},
   "outputs": [],
   "source": [
    "class Function:\n",
    "\n",
    "    def __call__(self, input): # Variableインスタンス（データを保持）\n",
    "        self.input = input # 入力Variableインスタンスを保持(逆伝播のために)\n",
    "        x = input.data # 入力Variableのデータ\n",
    "        y = self.forward(x) # 前伝播\n",
    "        output = Variable(y) # 前伝播の出力データを新しいVariableインスタンスに格納\n",
    "        return output\n",
    "\n",
    "    def forward(self, x):\n",
    "        # 他のクラスでFunctionクラスを引き継いでforwardを再定義する\n",
    "        raise NotImplementedError\n",
    "\n",
    "    def backward(self, gy):\n",
    "        # 他のクラスでFunctionクラスを引き継いでbackwardpを再定義する\n",
    "        raise NotImplementedError"
   ]
  },
  {
   "cell_type": "markdown",
   "metadata": {},
   "source": [
    "6.3 SquareとExpクラスの追加実装"
   ]
  },
  {
   "cell_type": "code",
   "execution_count": 17,
   "metadata": {},
   "outputs": [],
   "source": [
    "class Square(Function):\n",
    "\n",
    "    def forward(self, x):\n",
    "        y = x ** 2\n",
    "        return y\n",
    "\n",
    "    def backward(self, gy):\n",
    "        x = self.input.data # Functionに入力Variableインスタンスが保持されていてそれを引き継ぐ\n",
    "        gx = 2 * x * gy\n",
    "        return gx"
   ]
  },
  {
   "cell_type": "code",
   "execution_count": 18,
   "metadata": {},
   "outputs": [],
   "source": [
    "class Exp(Function):\n",
    "\n",
    "    def forward(self, x):\n",
    "        y = np.exp(x)\n",
    "        return y\n",
    "\n",
    "    def backward(self, gy):\n",
    "        x = self.input.data # Functionに入力Variableインスタンスが保持されていてそれを引き継ぐ\n",
    "        gx = np.exp(x) * gy\n",
    "        return gx"
   ]
  },
  {
   "cell_type": "markdown",
   "metadata": {},
   "source": [
    "6.4 バックプロパゲーションの実装"
   ]
  },
  {
   "cell_type": "code",
   "execution_count": 19,
   "metadata": {},
   "outputs": [
    {
     "name": "stdout",
     "output_type": "stream",
     "text": [
      "3.297442541400256\n",
      "3.2974426293330694\n"
     ]
    }
   ],
   "source": [
    "A = Square()\n",
    "B = Exp()\n",
    "C = Square()\n",
    "\n",
    "# 前伝播\n",
    "x = Variable(np.array(0.5))\n",
    "a = A(x)\n",
    "b = B(a)\n",
    "y = C(b)\n",
    "\n",
    "# 逆伝播（dx以外の勾配もついでに求められる）\n",
    "y.grad = np.array(1.0) # 学伝播は１から始まる\n",
    "b.grad = C.backward(y.grad)\n",
    "a.grad = B.backward(b.grad)\n",
    "x.grad = A.backward(a.grad)\n",
    "print(x.grad)\n",
    "\n",
    "\n",
    "# 数値微分との比較（数値微分はdxしか求められていない）\n",
    "def f(x):\n",
    "    A = Square()\n",
    "    B = Exp()\n",
    "    C = Square()\n",
    "    return C(B(A(x)))\n",
    "\n",
    "x = Variable(np.array(0.5))\n",
    "dx = numerical_diff(f, x)\n",
    "print(dx)\n"
   ]
  },
  {
   "cell_type": "markdown",
   "metadata": {},
   "source": [
    "step7: 逆伝播の自動化"
   ]
  },
  {
   "cell_type": "markdown",
   "metadata": {},
   "source": [
    "7.1 逆伝播の自動化のために親（関数）と子（入力/出力）を関連付ける"
   ]
  },
  {
   "cell_type": "code",
   "execution_count": 20,
   "metadata": {},
   "outputs": [],
   "source": [
    "class Variable:\n",
    "\n",
    "    def __init__(self, data):\n",
    "        self.data = data\n",
    "        self.grad = None\n",
    "        self.creator = None # 自分（変数）を生み出した親（関数）の情報を保持\n",
    "\n",
    "    def set_creator(self, func): # この変数を生み出した関数\n",
    "        self.creator = func"
   ]
  },
  {
   "cell_type": "code",
   "execution_count": 21,
   "metadata": {},
   "outputs": [],
   "source": [
    "class Function:\n",
    "    def __call__(self, input):\n",
    "        self.input = input # 関数(親)に入力（前の親の子）データを保持させる（逆伝播のため）\n",
    "        x = input.data\n",
    "        y = self.forward(x)\n",
    "        output = Variable(y)\n",
    "        output.set_creator(self) # output（子）内にself(使用した関数)をcreator（親）として格納\n",
    "        self.output = output # 関数(親)に出力（子）データを保持させる\n",
    "        return output"
   ]
  },
  {
   "cell_type": "code",
   "execution_count": 22,
   "metadata": {},
   "outputs": [],
   "source": [
    "class Square(Function):\n",
    "\n",
    "    def forward(self, x):\n",
    "        y = x ** 2\n",
    "        return y\n",
    "\n",
    "    def backward(self, gy):\n",
    "        x = self.input.data\n",
    "        gx = 2 * x * gy\n",
    "        return gx"
   ]
  },
  {
   "cell_type": "code",
   "execution_count": 23,
   "metadata": {},
   "outputs": [],
   "source": [
    "class Exp(Function):\n",
    "\n",
    "    def forward(self, x):\n",
    "        y = np.exp(x)\n",
    "        return y\n",
    "\n",
    "    def backward(self, gy):\n",
    "        x = self.input.data\n",
    "        gx = np.exp(x) * gy\n",
    "        return gx"
   ]
  },
  {
   "cell_type": "code",
   "execution_count": 24,
   "metadata": {},
   "outputs": [],
   "source": [
    "A = Square()\n",
    "B = Exp()\n",
    "C = Square()\n",
    "\n",
    "# 前伝播\n",
    "x = Variable(np.array(0.5))\n",
    "# この計算中、出力（子）は自分を生み出した関数（親）を、関数(親は)は出力（子）と入力（前の親の子）を保持する\n",
    "a = A(x)\n",
    "b = B(a)\n",
    "y = C(b)\n",
    "\n",
    "# 一つずつの親と子を確認\n",
    "assert y.creator == C\n",
    "assert y.creator.input ==b\n",
    "assert y.creator.input.creator == B\n",
    "assert y.creator.input.creator.input == a\n",
    "assert y.creator.input.creator.input.creator == A\n",
    "assert y.creator.input.creator.input.creator.input == x"
   ]
  },
  {
   "cell_type": "markdown",
   "metadata": {},
   "source": [
    "7.2 関連付けた親と子の逆伝播を試す(手動)\n"
   ]
  },
  {
   "cell_type": "code",
   "execution_count": 25,
   "metadata": {},
   "outputs": [
    {
     "name": "stdout",
     "output_type": "stream",
     "text": [
      "3.297442541400256\n"
     ]
    }
   ],
   "source": [
    "y.grad = np.array(1.0)\n",
    "\n",
    "C = y.creator # 最後の出力を出した関数（親）を取得\n",
    "b = C.input # その関数（親）が保持する入力（Variableインスタンス）を取得\n",
    "b.grad = C.backward(y.grad) # 入力Variableインスタンスに逆伝播で勾配を渡す\n",
    "\n",
    "B = b.creator\n",
    "a = B.input\n",
    "a.grad = B.backward(b.grad)\n",
    "\n",
    "A = a.creator\n",
    "x = A.input\n",
    "x.grad = A.backward(a.grad)\n",
    "print(x.grad)"
   ]
  },
  {
   "cell_type": "markdown",
   "metadata": {},
   "source": [
    "7.3 backwardメソッドをVariableクラスに追加し7.2を自動化する（再帰：途中の結果をメモリに残してしまう）"
   ]
  },
  {
   "cell_type": "code",
   "execution_count": 26,
   "metadata": {},
   "outputs": [],
   "source": [
    "class Variable:\n",
    "\n",
    "    def __init__(self, data):\n",
    "        self.data = data\n",
    "        self.grad = None\n",
    "        self.creator = None\n",
    "\n",
    "    def set_creator(self, func):\n",
    "        self.creator = func\n",
    "\n",
    "    # 上の逆伝播のフローをVariableインスタンス内で自動化\n",
    "    def backward(self):\n",
    "        f = self.creator # 出力Variableインスタンスを生み出した関数を取得\n",
    "        if f is not None: # このインスタンスに生みの親（関数）がいるか（一番最初の入力は生みの親（関数）がない）\n",
    "            x = f.input # その関数の入力Variableインスタンスを取得\n",
    "            x.grad = f.backward(self.grad) # その入力に対応する勾配を関数の逆伝播計算からを求める（引数は一つ前の逆伝播（出力）から渡された勾配）\n",
    "            x.backward() # 同様のことを入力インスタンスでも逆伝播を行い最初の入力まで繰り返しバトンタッチする（再帰)"
   ]
  },
  {
   "cell_type": "code",
   "execution_count": 27,
   "metadata": {},
   "outputs": [
    {
     "name": "stdout",
     "output_type": "stream",
     "text": [
      "3.297442541400256\n"
     ]
    }
   ],
   "source": [
    "A = Square()\n",
    "B = Exp()\n",
    "C = Square()\n",
    "\n",
    "# 前伝播\n",
    "x = Variable(np.array(0.5))\n",
    "# この計算中、出力（子）は自分を生み出した関数（親）を、関数(親は)は出力（子）と入力（別の親の子）を保持する\n",
    "a = A(x)\n",
    "b = B(a)\n",
    "y = C(b)\n",
    "\n",
    "# 逆伝播\n",
    "y.grad = np.array(1.0)\n",
    "y.backward() # 入力まで自動で逆伝播を行う\n",
    "print(x.grad)"
   ]
  },
  {
   "cell_type": "markdown",
   "metadata": {},
   "source": [
    "step8: 再起からループへ（メモリ効率向上や拡張性：step15でその恩恵がわかる）"
   ]
  },
  {
   "cell_type": "markdown",
   "metadata": {},
   "source": [
    "8.2 ループを使った実装（途中の結果をメモリに残さない）"
   ]
  },
  {
   "cell_type": "code",
   "execution_count": 28,
   "metadata": {},
   "outputs": [],
   "source": [
    "class Variable:\n",
    "\n",
    "    def __init__(self, data):\n",
    "        self.data = data\n",
    "        self.grad = None\n",
    "        self.creator = None\n",
    "\n",
    "    def set_creator(self, func):\n",
    "        self.creator = func # 前伝播する際に取得\n",
    "\n",
    "    def backward(self):\n",
    "        funcs = [self.creator] # 出力の親をリストに格納\n",
    "        while funcs: # 直線的な計算グラフなら通常一つの関数、分岐する計算グラフなら複数の関数を含む\n",
    "            f = funcs.pop() # リストの末尾の要素を取り出す（この時リストからその要素は除外）\n",
    "            x, y = f.input, f.output # その関数の入力と出力を取得し\n",
    "            x.grad = f.backward(y.grad) # 入力xにに対する勾配を求める\n",
    "\n",
    "            if x.creator is not None: # 入力に親がいるならそれをリストに追加してループ（最初の入力は親（関数）をもたない）\n",
    "                funcs.append(x.creator)"
   ]
  },
  {
   "cell_type": "code",
   "execution_count": 29,
   "metadata": {},
   "outputs": [
    {
     "name": "stdout",
     "output_type": "stream",
     "text": [
      "3.297442541400256\n"
     ]
    }
   ],
   "source": [
    "A = Square()\n",
    "B = Exp()\n",
    "C = Square()\n",
    "\n",
    "# 前伝播\n",
    "x = Variable(np.array(0.5))\n",
    "# この計算中、出力（子）は自分を生み出した関数（親）を、関数(親は)は出力（子）と入力（別の親の子）を保持する\n",
    "a = A(x)\n",
    "b = B(a)\n",
    "y = C(b)\n",
    "\n",
    "# 逆伝播\n",
    "y.grad = np.array(1.0)\n",
    "y.backward() # 入力まで自動で逆伝播を行う\n",
    "print(x.grad)"
   ]
  },
  {
   "cell_type": "markdown",
   "metadata": {},
   "source": [
    "step9: 関数をより便利に"
   ]
  },
  {
   "cell_type": "markdown",
   "metadata": {},
   "source": [
    "9.1 関数呼び出しの簡略化"
   ]
  },
  {
   "cell_type": "code",
   "execution_count": 30,
   "metadata": {},
   "outputs": [],
   "source": [
    "x = Variable(np.array(0.5))\n",
    "\n",
    "f = Square()\n",
    "y = y = f(x)\n",
    "# 関数計算に２行必要"
   ]
  },
  {
   "cell_type": "code",
   "execution_count": 31,
   "metadata": {},
   "outputs": [],
   "source": [
    "import numpy as np\n",
    "# 一度上の２行を一つの関数に定義すれば次から１行で済む\n",
    "def square(x):\n",
    "    f = Square()\n",
    "    return f(x) # Square() (x)に１行にまとめることも可能"
   ]
  },
  {
   "cell_type": "code",
   "execution_count": 32,
   "metadata": {},
   "outputs": [],
   "source": [
    "def exp(x):\n",
    "    f = Exp()\n",
    "    return f(x) # Exp() (x)に１行にまとめることも可能"
   ]
  },
  {
   "cell_type": "code",
   "execution_count": 33,
   "metadata": {},
   "outputs": [
    {
     "name": "stdout",
     "output_type": "stream",
     "text": [
      "3.297442541400256\n"
     ]
    }
   ],
   "source": [
    "# 前伝播\n",
    "x = Variable(np.array(0.5))\n",
    "# この計算中、出力（子）は自分を生み出した関数（親）を、関数(親は)は出力（子）と入力（別の親の子）を保持する\n",
    "# a = square(x)\n",
    "# b = exp(a)\n",
    "# y = square(b)\n",
    "y = square(exp(square(x)))\n",
    "\n",
    "y.grad = np.array(1.0)\n",
    "y.backward()\n",
    "print(x.grad)"
   ]
  },
  {
   "cell_type": "markdown",
   "metadata": {},
   "source": [
    "9.2 backwardメソッドの簡略化"
   ]
  },
  {
   "cell_type": "code",
   "execution_count": 34,
   "metadata": {},
   "outputs": [],
   "source": [
    "class Variable:\n",
    "\n",
    "    def __init__(self, data):\n",
    "        self.data = data\n",
    "        self.grad = None\n",
    "        self.creator = None\n",
    "\n",
    "    def set_creator(self, func):\n",
    "        self.creator = func\n",
    "\n",
    "    def backward(self):\n",
    "        if self.grad is None: # 逆伝播の最初の計算(最終出力)には、渡される勾配がない(１で固定)\n",
    "            self.grad = np.ones_like(self.data) # 最終出力と同じ形状の１を生成しそれを渡された勾配とする\n",
    "\n",
    "        funcs = [self.creator]\n",
    "        while funcs:\n",
    "            f = funcs.pop()\n",
    "            x, y = f.input, f.output\n",
    "            x.grad = f.backward(y.grad)\n",
    "\n",
    "            if x.creator is not None:\n",
    "                funcs.append(x.creator)"
   ]
  },
  {
   "cell_type": "code",
   "execution_count": 35,
   "metadata": {},
   "outputs": [
    {
     "name": "stdout",
     "output_type": "stream",
     "text": [
      "3.297442541400256\n"
     ]
    }
   ],
   "source": [
    "x = Variable(np.array(0.5))\n",
    "y = square(exp(square(x)))\n",
    "y.backward()\n",
    "print(x.grad)"
   ]
  },
  {
   "cell_type": "markdown",
   "metadata": {},
   "source": [
    "9.3 ndarrayだけを扱う"
   ]
  },
  {
   "cell_type": "code",
   "execution_count": 36,
   "metadata": {},
   "outputs": [],
   "source": [
    "class Variable:\n",
    "\n",
    "    def __init__(self, data):\n",
    "        if data is not None:\n",
    "            if not isinstance(data, np.ndarray): # dataがndarrayインスタンスではない時\n",
    "                raise TypeError('{} is not supported'.format(type(data))) # 入力されたdataのデータ型を{}に表示\n",
    "\n",
    "        self.data = data\n",
    "        self.grad = None\n",
    "        self.creator = None\n",
    "\n",
    "    def set_creator(self, func):\n",
    "        self.creator = func\n",
    "\n",
    "    def backward(self):\n",
    "        if self.grad is None:\n",
    "            self.grad = np.ones_like(self.data)\n",
    "\n",
    "        funcs = [self.creator]\n",
    "        while funcs:\n",
    "            f = funcs.pop()\n",
    "            x, y = f.input, f.output\n",
    "            x.grad = f.backward(y.grad)\n",
    "\n",
    "            if x.creator is not None:\n",
    "                funcs.append(x.creator)"
   ]
  },
  {
   "cell_type": "code",
   "execution_count": 37,
   "metadata": {},
   "outputs": [],
   "source": [
    "x = Variable(np.array(1.0))\n",
    "x = Variable(None)\n",
    "\n",
    "# x = Variable(1.0) # ndarrayとNone以外はエラーが表示される"
   ]
  },
  {
   "cell_type": "code",
   "execution_count": 38,
   "metadata": {},
   "outputs": [
    {
     "name": "stdout",
     "output_type": "stream",
     "text": [
      "[1.] <class 'numpy.ndarray'> 1\n",
      "[1.] <class 'numpy.ndarray'> 1\n"
     ]
    }
   ],
   "source": [
    "x = np.array([1.0]) # 1次元\n",
    "y = x ** 2 # 1次元のndaarayを保つ\n",
    "print(x, type(x), x.ndim)\n",
    "print(y, type(y), y.ndim)"
   ]
  },
  {
   "cell_type": "code",
   "execution_count": 39,
   "metadata": {},
   "outputs": [
    {
     "name": "stdout",
     "output_type": "stream",
     "text": [
      "1.0 <class 'numpy.ndarray'> 0\n",
      "1.0 <class 'numpy.float64'> 0\n"
     ]
    }
   ],
   "source": [
    "x = np.array(1.0) # ０次元（一応ndarrayだが実質スカラ）\n",
    "y = x ** 2 # ndarrayの型を失ってスカラ系の型（floatなど）になる\n",
    "print(x, type(x), x.ndim)\n",
    "print(y, type(y), y.ndim)"
   ]
  },
  {
   "cell_type": "code",
   "execution_count": 40,
   "metadata": {},
   "outputs": [],
   "source": [
    "def as_array(x):\n",
    "    if np.isscalar(x): # もしfloatなどのスカラ系の型なら\n",
    "        return np.array(x) # 改めて型をndarrayにする\n",
    "    return x"
   ]
  },
  {
   "cell_type": "code",
   "execution_count": 41,
   "metadata": {},
   "outputs": [
    {
     "name": "stdout",
     "output_type": "stream",
     "text": [
      "1.0 <class 'numpy.ndarray'> 0\n",
      "1.0 <class 'numpy.ndarray'> 0\n"
     ]
    }
   ],
   "source": [
    "x = np.array(1.0) # ０次元（一応ndarrayだが実質スカラ）\n",
    "y = x ** 2 # ndarrayの型を失ってスカラ系の型（floatなど）になる\n",
    "y = as_array(y) # 出力がスカラになった場合ndarrayに変換（元々ndarrayならそのまま帰す）\n",
    "print(x, type(x), x.ndim)\n",
    "print(y, type(y), y.ndim)"
   ]
  },
  {
   "cell_type": "code",
   "execution_count": 42,
   "metadata": {},
   "outputs": [],
   "source": [
    "class Function:\n",
    "    def __call__(self, input):\n",
    "        self.input = input\n",
    "        x = input.data\n",
    "        y = self.forward(x)\n",
    "        output = Variable(as_array(y)) # 出力がスカラになった場合ndarrayに変換（元々ndarrayならそのまま返す）して新しいVaribaleインスタンスのデータ二格納\n",
    "        output.set_creator(self)\n",
    "        self.output = output\n",
    "        return output"
   ]
  },
  {
   "cell_type": "code",
   "execution_count": 43,
   "metadata": {},
   "outputs": [],
   "source": [
    "class Square(Function):\n",
    "\n",
    "    def forward(self, x):\n",
    "        y = x ** 2\n",
    "        return y\n",
    "\n",
    "    def backward(self, gy):\n",
    "        x = self.input.data\n",
    "        gx = 2 * x * gy\n",
    "        return gx"
   ]
  },
  {
   "cell_type": "code",
   "execution_count": 44,
   "metadata": {},
   "outputs": [],
   "source": [
    "class Exp(Function):\n",
    "\n",
    "    def forward(self, x):\n",
    "        y = np.exp(x)\n",
    "        return y\n",
    "\n",
    "    def backward(self, gy):\n",
    "        x = self.input.data\n",
    "        gx = np.exp(x) * gy\n",
    "        return gx"
   ]
  },
  {
   "cell_type": "markdown",
   "metadata": {},
   "source": [
    "step10: テスト"
   ]
  },
  {
   "cell_type": "markdown",
   "metadata": {},
   "source": [
    "10.1, 10.2 Pythonのユニットテスト(square関数の前伝播と逆伝播)"
   ]
  },
  {
   "cell_type": "code",
   "execution_count": 45,
   "metadata": {},
   "outputs": [
    {
     "name": "stderr",
     "output_type": "stream",
     "text": [
      "test_forward (__main__.SquareTest.test_forward) ... ok\n",
      "\n",
      "----------------------------------------------------------------------\n",
      "Ran 1 test in 0.001s\n",
      "\n",
      "OK\n"
     ]
    },
    {
     "data": {
      "text/plain": [
       "<unittest.main.TestProgram at 0x1be9f08b8f0>"
      ]
     },
     "execution_count": 45,
     "metadata": {},
     "output_type": "execute_result"
    }
   ],
   "source": [
    "import unittest\n",
    "\n",
    "class SquareTest(unittest.TestCase):\n",
    "\n",
    "    def test_forward(self):\n",
    "        x = Variable(np.array(2.0))\n",
    "        y = square(x)\n",
    "        expected = np.array(4.0)\n",
    "        self.assertEqual(y.data, expected)\n",
    "\n",
    "unittest.main(argv=[\"\"], verbosity=2, exit=False)"
   ]
  },
  {
   "cell_type": "code",
   "execution_count": 46,
   "metadata": {},
   "outputs": [
    {
     "name": "stderr",
     "output_type": "stream",
     "text": [
      "test_backward (__main__.SquareTest.test_backward) ... ok\n",
      "test_forward (__main__.SquareTest.test_forward) ... ok\n",
      "\n",
      "----------------------------------------------------------------------\n",
      "Ran 2 tests in 0.001s\n",
      "\n",
      "OK\n"
     ]
    },
    {
     "data": {
      "text/plain": [
       "<unittest.main.TestProgram at 0x1beffbff800>"
      ]
     },
     "execution_count": 46,
     "metadata": {},
     "output_type": "execute_result"
    }
   ],
   "source": [
    "import unittest\n",
    "\n",
    "class SquareTest(unittest.TestCase):\n",
    "\n",
    "    def test_forward(self):\n",
    "        x = Variable(np.array(2.0))\n",
    "        y = square(x)\n",
    "        expected = np.array(4.0)\n",
    "        self.assertEqual(y.data, expected)\n",
    "\n",
    "    def test_backward(self):\n",
    "        x = Variable(np.array(3.0))\n",
    "        y = square(x)\n",
    "        y.backward()\n",
    "        expected = np.array(6.0)\n",
    "        self.assertEqual(x.grad, expected)\n",
    "\n",
    "unittest.main(argv=[\"\"], verbosity=2, exit=False)"
   ]
  },
  {
   "cell_type": "markdown",
   "metadata": {},
   "source": [
    "10.3 勾配確認による自動テスト"
   ]
  },
  {
   "cell_type": "code",
   "execution_count": 47,
   "metadata": {},
   "outputs": [
    {
     "name": "stderr",
     "output_type": "stream",
     "text": [
      "test_backward (__main__.SquareTest.test_backward) ... ok\n",
      "test_forward (__main__.SquareTest.test_forward) ... ok\n",
      "test_gradient_check (__main__.SquareTest.test_gradient_check) ... ok\n",
      "\n",
      "----------------------------------------------------------------------\n",
      "Ran 3 tests in 0.003s\n",
      "\n",
      "OK\n"
     ]
    },
    {
     "data": {
      "text/plain": [
       "<unittest.main.TestProgram at 0x1be9f1107a0>"
      ]
     },
     "execution_count": 47,
     "metadata": {},
     "output_type": "execute_result"
    }
   ],
   "source": [
    "def numerical_diff(f, x, eps=1e-4): # 扱う関数、Variableインスタンス\n",
    "    x0 = Variable(x.data - eps) # インスタンスのデータに少し変化加えて新しいVariableインスタンスのデータに格納\n",
    "    x1 = Variable(x.data + eps) # 同様\n",
    "    y0 = f(x0) # fのforwardに通して計算され、新しいVariableインスタンスのデータに格納\n",
    "    y1 = f(x1) # 同様\n",
    "    return (y1.data - y0.data) / (2 * eps) # 各インスタンスのデータを呼んで数値微分し返す\n",
    "\n",
    "class SquareTest(unittest.TestCase):\n",
    "\n",
    "    def test_forward(self):\n",
    "        x = Variable(np.array(2.0))\n",
    "        y = square(x)\n",
    "        expected = np.array(4.0)\n",
    "        self.assertEqual(y.data, expected)\n",
    "\n",
    "    def test_backward(self):\n",
    "        x = Variable(np.array(3.0))\n",
    "        y = square(x)\n",
    "        y.backward()\n",
    "        expected = np.array(6.0)\n",
    "        self.assertEqual(x.grad, expected)\n",
    "\n",
    "    def test_gradient_check(self):\n",
    "        x = Variable(np.random.rand(1)) # ランダムな入力値を生成\n",
    "        y = square(x)\n",
    "        y.backward()\n",
    "        num_grad = numerical_diff(square, x)\n",
    "        flg = np.allclose(x.grad, num_grad)\n",
    "        self.assertTrue(flg)\n",
    "\n",
    "unittest.main(argv=[\"\"], verbosity=2, exit=False)"
   ]
  }
 ],
 "metadata": {
  "kernelspec": {
   "display_name": "Python 3",
   "language": "python",
   "name": "python3"
  },
  "language_info": {
   "codemirror_mode": {
    "name": "ipython",
    "version": 3
   },
   "file_extension": ".py",
   "mimetype": "text/x-python",
   "name": "python",
   "nbconvert_exporter": "python",
   "pygments_lexer": "ipython3",
   "version": "3.12.3"
  }
 },
 "nbformat": 4,
 "nbformat_minor": 2
}
